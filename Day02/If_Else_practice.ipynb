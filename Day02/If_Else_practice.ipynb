{
 "cells": [
  {
   "cell_type": "code",
   "execution_count": 9,
   "id": "57b82c6f-68e8-4108-a18d-6a4318a60638",
   "metadata": {},
   "outputs": [
    {
     "name": "stdin",
     "output_type": "stream",
     "text": [
      "Enter your name:  peter\n"
     ]
    },
    {
     "name": "stdout",
     "output_type": "stream",
     "text": [
      "Ye acha insan han\n"
     ]
    }
   ],
   "source": [
    "# Take input from the user\n",
    "name = input(\"Enter your name: \")\n",
    "\n",
    "# Check if the input name matches any of the names in the list\n",
    "if name in [\"hassan\", \"zain\", \"mujtaba\"]:\n",
    "    print(\"Ye kutta ka bacha han\")\n",
    "    \n",
    "else:\n",
    "    print(\"Ye acha insan han\")\n"
   ]
  },
  {
   "cell_type": "code",
   "execution_count": 45,
   "id": "1175c3b7-f55c-4426-a593-a4ba3e492a74",
   "metadata": {},
   "outputs": [
    {
     "name": "stdin",
     "output_type": "stream",
     "text": [
      "Enter your name:  oakzia\n"
     ]
    },
    {
     "name": "stdout",
     "output_type": "stream",
     "text": [
      "Oakzia bhai, tu achha insaan hai! Aaj se sab dosti karenge!\n"
     ]
    }
   ],
   "source": [
    "import random\n",
    "\n",
    "# Take input from the user\n",
    "name = input(\"Enter your name: \")\n",
    "\n",
    "# List of trolling messages\n",
    "messages = {\n",
    "    \"hassan\": [\"Hassan, tu toh sabse bada jaanwar hai!\", \n",
    "               \"Hassan, tu toh full-time kutta ka bacha hai! 😂\", \n",
    "               \"Hassan, kabhi toh apna swag sambhal yaar!\"],\n",
    "    \n",
    "    \"zain\": [\"Zain, ab teri yeh chhupne wali baat samajh nahi aayi!\", \n",
    "             \"Zain, tu toh bilkul ek joke hai, har kisi ko hassi aa rahi hai!\",\n",
    "             \"Zain, tu kis planet se aaya hai?\"],\n",
    "    \n",
    "    \"mujtaba\": [\"Mujtaba, tu toh asli hero nikla, sabko maar daalega!\",\n",
    "                \"Mujtaba, tumhare jokes se sabki pet me dard ho raha hai! 😜\",\n",
    "                \"Mujtaba, tu kabhi mature bhi hoga ya hamesha baccha hi rahega?\"],\n",
    "\n",
    "    \"imran\": [\"Imran, tu toh serious type ka banda hai, kabhi toh relax kar!\",\n",
    "              \"Imran, tu toh duniya ka sabse bada philosopher nikla! 😂\",\n",
    "              \"Imran, jo tu keh raha hai, wo sabko samajh hi nahi aa raha yaar!\"],\n",
    "\n",
    "    \"saad\": [\"Saad, abhi tu kis ke saath ladh raha hai? 😅\",\n",
    "             \"Saad, tumhare jokes mein bohot kuch missing hai! 🤔\",\n",
    "             \"Saad, tum toh bapu nikle is duniya ke! 😂\"],\n",
    "\n",
    "    \"ali\": [\"Ali, tumhare jokes sunne ke baad sab ki aankhon mein aansu aa gaye! 😭\",\n",
    "            \"Ali, kabhi apne mooh se kuch accha bhi keh le yaar!\",\n",
    "            \"Ali, kabhi apna style bhi dekhna, kyunki aaj kal kuch samajh nahi aa raha hai!\"]\n",
    "}\n",
    "\n",
    "# Default message for all other names\n",
    "default_message = \"{} bhai, tu achha insaan hai! Aaj se sab dosti karenge!\".format(name.capitalize())\n",
    "\n",
    "# Check if the name exists in the troll_messages dictionary\n",
    "if name in messages:\n",
    "    # Randomly select a trolling message from the list of messages\n",
    "    print(random.choice(messages[name.lower()]))\n",
    "else:\n",
    "    # Print a default message for names not in the list\n",
    "    print(default_message)\n"
   ]
  },
  {
   "cell_type": "code",
   "execution_count": null,
   "id": "6c994beb-9353-404a-9644-68bbd1e16d13",
   "metadata": {},
   "outputs": [],
   "source": [
    "import pandas as pd\n",
    "from faker import Faker\n",
    "\n",
    "# Initialize Faker to generate fake data\n",
    "fake = Faker()\n",
    "\n",
    "# Create an empty list to store the data\n",
    "data = []\n",
    "\n",
    "# Generate 800,000 unique records\n",
    "emails = set()  # Using a set to ensure unique emails\n",
    "name_combinations = set()\n",
    "\n",
    "while len(data) < 600000:\n",
    "    first_name = fake.first_name()\n",
    "    last_name = fake.last_name()\n",
    "\n",
    "    # Check if the combination of first name and last name is unique\n",
    "    if (first_name, last_name) not in name_combinations:\n",
    "        email = f\"{first_name.lower()}.{last_name.lower()}@example.com\"\n",
    "\n",
    "        # Ensure the email is unique\n",
    "        if email not in emails:\n",
    "            # Add unique data to the list\n",
    "            data.append([first_name, last_name, email])\n",
    "            emails.add(email)\n",
    "            name_combinations.add((first_name, last_name))\n",
    "\n",
    "# Create DataFrame\n",
    "df = pd.DataFrame(data, columns=[\"First Name\", \"Last Name\", \"Email\"])\n",
    "\n",
    "# Save to Excel file using xlsxwriter for faster performance\n",
    "file_path = \"unique_names_emails_optimized.xlsx\"\n",
    "with pd.ExcelWriter(file_path, engine='xlsxwriter') as writer:\n",
    "    df.to_excel(writer, index=False)\n",
    "    \n",
    "print(f\"File saved as {file_path}\")\n"
   ]
  },
  {
   "cell_type": "code",
   "execution_count": null,
   "id": "f919800b-6586-479d-9505-180e83b66275",
   "metadata": {},
   "outputs": [],
   "source": []
  }
 ],
 "metadata": {
  "kernelspec": {
   "display_name": "Python 3 (ipykernel)",
   "language": "python",
   "name": "python3"
  },
  "language_info": {
   "codemirror_mode": {
    "name": "ipython",
    "version": 3
   },
   "file_extension": ".py",
   "mimetype": "text/x-python",
   "name": "python",
   "nbconvert_exporter": "python",
   "pygments_lexer": "ipython3",
   "version": "3.12.4"
  }
 },
 "nbformat": 4,
 "nbformat_minor": 5
}
