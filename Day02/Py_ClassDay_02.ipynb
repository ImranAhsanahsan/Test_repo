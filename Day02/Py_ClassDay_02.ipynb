{
 "cells": [
  {
   "cell_type": "code",
   "execution_count": 3,
   "id": "a6da4ee6-3095-4113-857e-d788925d90bc",
   "metadata": {},
   "outputs": [
    {
     "name": "stdout",
     "output_type": "stream",
     "text": [
      "5\n"
     ]
    }
   ],
   "source": [
    "# ye dono + addition krta han ye 2 tareeqa han addition krnake/\n",
    "age=1\n",
    "age= age+2\n",
    "age+=2\n",
    "print(age)\n"
   ]
  },
  {
   "cell_type": "code",
   "execution_count": 5,
   "id": "a15e26c7-0ae9-4f58-a2a2-fe2c10f56361",
   "metadata": {},
   "outputs": [
    {
     "data": {
      "text/plain": [
       "-3"
      ]
     },
     "execution_count": 5,
     "metadata": {},
     "output_type": "execute_result"
    }
   ],
   "source": [
    "# Another method \n",
    "age=1\n",
    "age= age-2\n",
    "age-=2\n",
    "age\n"
   ]
  },
  {
   "cell_type": "code",
   "execution_count": 9,
   "id": "a1288e17-bd80-426f-8ddf-fc29c31b9ff2",
   "metadata": {},
   "outputs": [
    {
     "data": {
      "text/plain": [
       "'Imranahsan'"
      ]
     },
     "execution_count": 9,
     "metadata": {},
     "output_type": "execute_result"
    }
   ],
   "source": [
    "# 2 String ko add krna \n",
    "\"Imran\" + \"ahsan\""
   ]
  },
  {
   "cell_type": "code",
   "execution_count": 11,
   "id": "9691cf55-bd55-4a5f-9450-e7fb38497bf0",
   "metadata": {},
   "outputs": [
    {
     "name": "stdout",
     "output_type": "stream",
     "text": [
      "hello there\n"
     ]
    }
   ],
   "source": [
    "print(\"hello\",\"there\")"
   ]
  },
  {
   "cell_type": "code",
   "execution_count": 15,
   "id": "a2271c1c-1f7a-4fb5-8d53-c3904b6a6205",
   "metadata": {},
   "outputs": [
    {
     "name": "stdout",
     "output_type": "stream",
     "text": [
      "My name is John, my age is 25.\n"
     ]
    }
   ],
   "source": [
    "name = \"John\"\n",
    "age = 25\n",
    "sentence = \"My name is \" + name + \", my age is \" + str(age) + \".\"\n",
    "print(sentence)\n"
   ]
  },
  {
   "cell_type": "code",
   "execution_count": 19,
   "id": "ac8f5bc4-36bd-4a08-95ad-e4b4587fa4dc",
   "metadata": {},
   "outputs": [
    {
     "name": "stdout",
     "output_type": "stream",
     "text": [
      "my name is imran\n",
      " my age is 2\n"
     ]
    }
   ],
   "source": [
    "#isme aik string ka print ha dusra int ka to string or int aik st print nh hota to humne isme (int) ko string ma convert ota ha  \n",
    "#bana diya ha \n",
    "#use skip kr deta ha hum use last m likha ga humesha ye akhri wali line ko print krta ha agr usme print nh hoto wo \n",
    "\n",
    "name=\"imran\"\n",
    "age=2\n",
    "\"my name is \" +name+\"\\n my age is\" +str(age)\n",
    "print(\"my name is \" +name+\"\\n my age is \" +str(age))\n",
    "\n",
    "\n"
   ]
  },
  {
   "cell_type": "code",
   "execution_count": 25,
   "id": "7949a05e-3d90-4530-9442-ab2eea640cb5",
   "metadata": {},
   "outputs": [
    {
     "name": "stdin",
     "output_type": "stream",
     "text": [
      "What is your first value 1\n",
      "What is your Second value 2\n"
     ]
    },
    {
     "name": "stdout",
     "output_type": "stream",
     "text": [
      "3\n"
     ]
    }
   ],
   "source": [
    "# Input kyna ka tareeqa\n",
    "# agr hum int lenga to humain use string m convert krn hoga \n",
    "\n",
    "c=int (input(\"What is your first value\"))\n",
    "d=int (input(\"What is your Second value\"))\n",
    "print(c+d)"
   ]
  },
  {
   "cell_type": "code",
   "execution_count": 29,
   "id": "96c3fca5-031e-4c84-a87a-8d0e57a5265b",
   "metadata": {},
   "outputs": [
    {
     "name": "stdin",
     "output_type": "stream",
     "text": [
      "Enter your First value 1\n",
      "Enter your Second value 2\n"
     ]
    },
    {
     "name": "stdout",
     "output_type": "stream",
     "text": [
      "Condition not meet\n"
     ]
    }
   ],
   "source": [
    "# Ab hum aik simple sa if ki condition dekhain ga \n",
    "\n",
    "a= input(\"Enter your First value\")\n",
    "b= input(\"Enter your Second value\")\n",
    "if a == b :\n",
    "    print(\"Your condition has been meet\")\n",
    "else:\n",
    "    print(\"Condition not meet\")\n"
   ]
  },
  {
   "cell_type": "code",
   "execution_count": 75,
   "id": "0b74032a-0321-47a3-8797-c312d32f42eb",
   "metadata": {},
   "outputs": [
    {
     "name": "stdin",
     "output_type": "stream",
     "text": [
      "Enter your cat name ahsan\n"
     ]
    },
    {
     "name": "stdout",
     "output_type": "stream",
     "text": [
      "It's not a cat or dog\n"
     ]
    }
   ],
   "source": [
    "#If else training \n",
    "\n",
    "species= input(\"Enter your cat name\")\n",
    "\n",
    "if species == \"cat\" or species == \"dog\":\n",
    "    \n",
    "    print(\"It is a \" +species)\n",
    "    \n",
    "else:\n",
    "    print(\"It's not a cat or dog\")"
   ]
  },
  {
   "cell_type": "code",
   "execution_count": 84,
   "id": "152bd097-08c6-4f72-b20d-f494e54fe49d",
   "metadata": {},
   "outputs": [
    {
     "name": "stdin",
     "output_type": "stream",
     "text": [
      "Enter your age  18\n"
     ]
    },
    {
     "name": "stdout",
     "output_type": "stream",
     "text": [
      "You are eligible to cast a vote\n"
     ]
    }
   ],
   "source": [
    "#rite a program to check whether a person is eligible for voting or not. (accept age from user)\n",
    "#if age is greater than 17 eligible otherwise not eligible\n",
    "\n",
    "age=int (input (\"Enter your age \"))\n",
    "\n",
    "if age > 17:\n",
    "    print(\"You are eligible to cast a vote\")\n",
    "else:\n",
    "    print (\"Not eligible for vote\")"
   ]
  },
  {
   "cell_type": "code",
   "execution_count": 94,
   "id": "dc481595-20bc-484f-b195-289759eba7ce",
   "metadata": {},
   "outputs": [
    {
     "name": "stdin",
     "output_type": "stream",
     "text": [
      "Enter your Experience 6\n",
      "Enter your salary 212000\n"
     ]
    },
    {
     "name": "stdout",
     "output_type": "stream",
     "text": [
      "your bonus is  31800.0\n"
     ]
    }
   ],
   "source": [
    "#A company decided to give bonus of 5% to employee if his/her year of service is more than 5 years. \n",
    "#Ask user for their salary and year of service and print the net bonus amount.\n",
    "\n",
    "yearofexp= int (input(\"Enter your Experience\"))\n",
    "\n",
    "if yearofexp > 5:\n",
    "    salary=int (input(\"Enter your salary\"))\n",
    "    print(\"your bonus is \" ,0.15 * salary)\n",
    "else:\n",
    "\n",
    "    print(\"Your Experience is less than 5 years\")\n",
    " "
   ]
  },
  {
   "cell_type": "code",
   "execution_count": 104,
   "id": "d1edefc1-52e1-4922-a397-60e50651e28d",
   "metadata": {},
   "outputs": [
    {
     "name": "stdin",
     "output_type": "stream",
     "text": [
      "Enter your number 3\n"
     ]
    },
    {
     "name": "stdout",
     "output_type": "stream",
     "text": [
      "Number is ODD\n"
     ]
    }
   ],
   "source": [
    "# Write a program to check whether a number entered by user is even or odd.\n",
    "\n",
    "number=int (input(\"Enter your number\"))\n",
    "\n",
    "if number %2 == 0:\n",
    "    print (\"Number is even \")\n",
    "else:\n",
    "    print (\"Number is ODD\")"
   ]
  },
  {
   "cell_type": "code",
   "execution_count": 122,
   "id": "bf273347-fde8-466d-9962-bd1e932a295b",
   "metadata": {},
   "outputs": [
    {
     "name": "stdout",
     "output_type": "stream",
     "text": [
      "Is divisible by 2 or 5 2\n",
      "Is divisible by 2 or 5 4\n",
      "Is divisible by 2 or 5 5\n",
      "Is divisible by 2 or 5 6\n",
      "Is divisible by 2 or 5 8\n",
      "Is divisible by 2 or 5 10\n",
      "Is divisible by 2 or 5 12\n",
      "Is divisible by 2 or 5 14\n",
      "Is divisible by 2 or 5 15\n",
      "Is divisible by 2 or 5 16\n",
      "Is divisible by 2 or 5 18\n",
      "Is divisible by 2 or 5 20\n",
      "Is divisible by 2 or 5 22\n",
      "Is divisible by 2 or 5 24\n",
      "Is divisible by 2 or 5 25\n",
      "Is divisible by 2 or 5 26\n",
      "Is divisible by 2 or 5 28\n",
      "Is divisible by 2 or 5 30\n",
      "Is divisible by 2 or 5 32\n",
      "Is divisible by 2 or 5 34\n",
      "Is divisible by 2 or 5 35\n",
      "Is divisible by 2 or 5 36\n",
      "Is divisible by 2 or 5 38\n",
      "Is divisible by 2 or 5 40\n",
      "Is divisible by 2 or 5 42\n",
      "Is divisible by 2 or 5 44\n",
      "Is divisible by 2 or 5 45\n",
      "Is divisible by 2 or 5 46\n",
      "Is divisible by 2 or 5 48\n",
      "Is divisible by 2 or 5 50\n",
      "Is divisible by 2 or 5 52\n",
      "Is divisible by 2 or 5 54\n",
      "Is divisible by 2 or 5 55\n",
      "Is divisible by 2 or 5 56\n",
      "Is divisible by 2 or 5 58\n",
      "Is divisible by 2 or 5 60\n",
      "Is divisible by 2 or 5 62\n",
      "Is divisible by 2 or 5 64\n",
      "Is divisible by 2 or 5 65\n",
      "Is divisible by 2 or 5 66\n",
      "Is divisible by 2 or 5 68\n",
      "Is divisible by 2 or 5 70\n",
      "Is divisible by 2 or 5 72\n",
      "Is divisible by 2 or 5 74\n",
      "Is divisible by 2 or 5 75\n",
      "Is divisible by 2 or 5 76\n",
      "Is divisible by 2 or 5 78\n",
      "Is divisible by 2 or 5 80\n",
      "Is divisible by 2 or 5 82\n",
      "Is divisible by 2 or 5 84\n",
      "Is divisible by 2 or 5 85\n",
      "Is divisible by 2 or 5 86\n",
      "Is divisible by 2 or 5 88\n",
      "Is divisible by 2 or 5 90\n",
      "Is divisible by 2 or 5 92\n",
      "Is divisible by 2 or 5 94\n",
      "Is divisible by 2 or 5 95\n",
      "Is divisible by 2 or 5 96\n",
      "Is divisible by 2 or 5 98\n",
      "Is divisible by 2 or 5 100\n",
      "Total count of numbers divisible by 2 or 5: 60\n"
     ]
    }
   ],
   "source": [
    "#You want to print numbers from 1 to 100 and separately count the numbers that are divisible by 2 or 5, \n",
    "#and print those as well. Here's how you can do it:\n",
    "\n",
    "count=0\n",
    "\n",
    "# Loop through numbers 1 to 100\n",
    "for number in range (1,101):\n",
    "\n",
    "    if number %2==0 or number %5==0:\n",
    "        print (\"Is divisible by 2 or 5\" ,number)  # ye , ka mtlb ha input int m arha ha agr yahan hum + ka sign use karain to humin number ko string m convert krna hoga like that str(number)\n",
    "        count += 1\n",
    "\n",
    "# Print the total count of numbers divisible by 2 or 5\n",
    "print(\"Total count of numbers divisible by 2 or 5:\" , count)\n",
    "    "
   ]
  },
  {
   "cell_type": "code",
   "execution_count": 132,
   "id": "5d9cfd85-8a6b-4b13-877f-cdaebd1fe6c3",
   "metadata": {},
   "outputs": [
    {
     "name": "stdout",
     "output_type": "stream",
     "text": [
      "Number which is divisible by 2 or 5 is == 2\n",
      "Number which is divisible by 2 or 5 is == 4\n",
      "Number which is divisible by 2 or 5 is == 5\n",
      "Number which is divisible by 2 or 5 is == 6\n",
      "Number which is divisible by 2 or 5 is == 8\n",
      "Number which is divisible by 2 or 5 is == 10\n",
      "Number which is divisible by 2 or 5 is == 12\n",
      "Number which is divisible by 2 or 5 is == 14\n",
      "Number which is divisible by 2 or 5 is == 15\n",
      "Number which is divisible by 2 or 5 is == 16\n",
      "Number which is divisible by 2 or 5 is == 18\n",
      "Number which is divisible by 2 or 5 is == 20\n",
      "Number which is divisible by 2 or 5 is == 22\n",
      "Number which is divisible by 2 or 5 is == 24\n",
      "Number which is divisible by 2 or 5 is == 25\n",
      "Number which is divisible by 2 or 5 is == 26\n",
      "Number which is divisible by 2 or 5 is == 28\n",
      "Number which is divisible by 2 or 5 is == 30\n",
      "Number which is divisible by 2 or 5 is == 32\n",
      "Number which is divisible by 2 or 5 is == 34\n",
      "Number which is divisible by 2 or 5 is == 35\n",
      "Number which is divisible by 2 or 5 is == 36\n",
      "Number which is divisible by 2 or 5 is == 38\n",
      "Number which is divisible by 2 or 5 is == 40\n",
      "Number which is divisible by 2 or 5 is == 42\n",
      "Number which is divisible by 2 or 5 is == 44\n",
      "Number which is divisible by 2 or 5 is == 45\n",
      "Number which is divisible by 2 or 5 is == 46\n",
      "Number which is divisible by 2 or 5 is == 48\n",
      "Number which is divisible by 2 or 5 is == 50\n",
      "Number which is divisible by 2 or 5 is == 52\n",
      "Number which is divisible by 2 or 5 is == 54\n",
      "Number which is divisible by 2 or 5 is == 55\n",
      "Number which is divisible by 2 or 5 is == 56\n",
      "Number which is divisible by 2 or 5 is == 58\n",
      "Number which is divisible by 2 or 5 is == 60\n",
      "Number which is divisible by 2 or 5 is == 62\n",
      "Number which is divisible by 2 or 5 is == 64\n",
      "Number which is divisible by 2 or 5 is == 65\n",
      "Number which is divisible by 2 or 5 is == 66\n",
      "Number which is divisible by 2 or 5 is == 68\n",
      "Number which is divisible by 2 or 5 is == 70\n",
      "Number which is divisible by 2 or 5 is == 72\n",
      "Number which is divisible by 2 or 5 is == 74\n",
      "Number which is divisible by 2 or 5 is == 75\n",
      "Number which is divisible by 2 or 5 is == 76\n",
      "Number which is divisible by 2 or 5 is == 78\n",
      "Number which is divisible by 2 or 5 is == 80\n",
      "Number which is divisible by 2 or 5 is == 82\n",
      "Number which is divisible by 2 or 5 is == 84\n",
      "Number which is divisible by 2 or 5 is == 85\n",
      "Number which is divisible by 2 or 5 is == 86\n",
      "Number which is divisible by 2 or 5 is == 88\n",
      "Number which is divisible by 2 or 5 is == 90\n",
      "Number which is divisible by 2 or 5 is == 92\n",
      "Number which is divisible by 2 or 5 is == 94\n",
      "Number which is divisible by 2 or 5 is == 95\n",
      "Number which is divisible by 2 or 5 is == 96\n",
      "Number which is divisible by 2 or 5 is == 98\n",
      "Number which is divisible by 2 or 5 is == 100\n",
      "Total count of numbers divisible by 2 or 5: = 60\n"
     ]
    }
   ],
   "source": [
    "#You want to print numbers from 1 to 100 and separately count the numbers that are divisible by 2 or 5, \n",
    "#and print those as well. Here's how you can do it:\n",
    "\n",
    "#same code ha bs isme print m hun , ki jaga + use karain ga +jo ha wo string ki concatination ka liya use hota ha \n",
    "#ab jub humara data input ma int ki form m ho to hum , use krta ha print ma lekin agr phr b humain + use krna ho to hum int ka input\n",
    "# ko string m convert kr deta ha phr hum + use kr skta han print ka andr\n",
    "\n",
    "count=0   \n",
    "\n",
    "# Loop through numbers 1 to 100\n",
    "for number in range (1,101):\n",
    "\n",
    "    if number %2==0 or number %5==0:  # print krwana ka tareeqa \n",
    "        print (\"Number which is divisible by 2 or 5 is == \" + str(number))  # ye , ka mtlb ha input int m arha ha agr yahan hum + ka sign use karain to humin number ko string m convert krna hoga like that str(number)\n",
    "        count += 1   # Ye end tk dekha ga ka condition poori hori ha ya nahi\n",
    "\n",
    "# Print the total count of numbers divisible by 2 or 5\n",
    "print(\"Total count of numbers divisible by 2 or 5: = \" + str(count))"
   ]
  },
  {
   "cell_type": "code",
   "execution_count": 138,
   "id": "8ad386e0-a4f8-4adb-b80c-fc5b8a35a49b",
   "metadata": {},
   "outputs": [
    {
     "name": "stdout",
     "output_type": "stream",
     "text": [
      "Numbers that are divisible by 2 or 7 is == 2\n",
      "Numbers that are divisible by 2 or 7 is == 4\n",
      "Numbers that are divisible by 2 or 7 is == 6\n",
      "Numbers that are divisible by 2 or 7 is == 7\n",
      "Numbers that are divisible by 2 or 7 is == 8\n",
      "Numbers that are divisible by 2 or 7 is == 10\n",
      "Numbers that are divisible by 2 or 7 is == 12\n",
      "Numbers that are divisible by 2 or 7 is == 14\n",
      "Numbers that are divisible by 2 or 7 is == 16\n",
      "Numbers that are divisible by 2 or 7 is == 18\n",
      "Numbers that are divisible by 2 or 7 is == 20\n",
      "Numbers that are divisible by 2 or 7 is == 21\n",
      "Numbers that are divisible by 2 or 7 is == 22\n",
      "Numbers that are divisible by 2 or 7 is == 24\n",
      "Numbers that are divisible by 2 or 7 is == 26\n",
      "Numbers that are divisible by 2 or 7 is == 28\n",
      "Numbers that are divisible by 2 or 7 is == 30\n",
      "Numbers that are divisible by 2 or 7 is == 32\n",
      "Numbers that are divisible by 2 or 7 is == 34\n",
      "Numbers that are divisible by 2 or 7 is == 35\n",
      "Numbers that are divisible by 2 or 7 is == 36\n",
      "Numbers that are divisible by 2 or 7 is == 38\n",
      "Numbers that are divisible by 2 or 7 is == 40\n",
      "Numbers that are divisible by 2 or 7 is == 42\n",
      "Numbers that are divisible by 2 or 7 is == 44\n",
      "Numbers that are divisible by 2 or 7 is == 46\n",
      "Numbers that are divisible by 2 or 7 is == 48\n",
      "Numbers that are divisible by 2 or 7 is == 49\n",
      "Numbers that are divisible by 2 or 7 is == 50\n",
      "Numbers that are divisible by 2 or 7 is == 52\n",
      "Numbers that are divisible by 2 or 7 is == 54\n",
      "Numbers that are divisible by 2 or 7 is == 56\n",
      "Numbers that are divisible by 2 or 7 is == 58\n",
      "Numbers that are divisible by 2 or 7 is == 60\n",
      "Numbers that are divisible by 2 or 7 is == 62\n",
      "Numbers that are divisible by 2 or 7 is == 63\n",
      "Numbers that are divisible by 2 or 7 is == 64\n",
      "Numbers that are divisible by 2 or 7 is == 66\n",
      "Numbers that are divisible by 2 or 7 is == 68\n",
      "Numbers that are divisible by 2 or 7 is == 70\n",
      "Numbers that are divisible by 2 or 7 is == 72\n",
      "Numbers that are divisible by 2 or 7 is == 74\n",
      "Numbers that are divisible by 2 or 7 is == 76\n",
      "Numbers that are divisible by 2 or 7 is == 77\n",
      "Numbers that are divisible by 2 or 7 is == 78\n",
      "Numbers that are divisible by 2 or 7 is == 80\n",
      "Numbers that are divisible by 2 or 7 is == 82\n",
      "Numbers that are divisible by 2 or 7 is == 84\n",
      "Numbers that are divisible by 2 or 7 is == 86\n",
      "Numbers that are divisible by 2 or 7 is == 88\n",
      "Numbers that are divisible by 2 or 7 is == 90\n",
      "Numbers that are divisible by 2 or 7 is == 91\n",
      "Numbers that are divisible by 2 or 7 is == 92\n",
      "Numbers that are divisible by 2 or 7 is == 94\n",
      "Numbers that are divisible by 2 or 7 is == 96\n",
      "Numbers that are divisible by 2 or 7 is == 98\n",
      "Numbers that are divisible by 2 or 7 is == 100\n",
      "The Total count of number whos are divisible by 2 or 7 57\n"
     ]
    }
   ],
   "source": [
    "count = 0\n",
    "\n",
    "for number in range(1,101):\n",
    "    if number %2==0 or number %7== 0:\n",
    "        print (\"Numbers that are divisible by 2 or 7 is ==\" , number)\n",
    "        count +=1\n",
    "\n",
    "print (\"The Total count of number whos are divisible by 2 or 7\" ,count)"
   ]
  },
  {
   "cell_type": "code",
   "execution_count": 142,
   "id": "235835a4-b6ce-4d88-882f-eaa009651a9f",
   "metadata": {},
   "outputs": [
    {
     "name": "stdin",
     "output_type": "stream",
     "text": [
      "Enter you number  2\n"
     ]
    },
    {
     "name": "stdout",
     "output_type": "stream",
     "text": [
      "number is not divisible by 7\n"
     ]
    }
   ],
   "source": [
    "# Write a program to check whether a number is divisible by 7 or not.\n",
    "\n",
    "number =int (input(\"Enter you number \"))\n",
    "\n",
    "if number %7 == 0:\n",
    "    print (\"Number is divisible by 7\")\n",
    "\n",
    "else:\n",
    "    print (\"number is not divisible by 7\")"
   ]
  },
  {
   "cell_type": "code",
   "execution_count": 164,
   "id": "c8662191-7227-41f9-8218-e1c51504d20a",
   "metadata": {},
   "outputs": [
    {
     "name": "stdin",
     "output_type": "stream",
     "text": [
      "Enter a number:  30\n"
     ]
    },
    {
     "name": "stdout",
     "output_type": "stream",
     "text": [
      "Hello\n"
     ]
    }
   ],
   "source": [
    "# wo number jo 5 or 6 dono sa divide hota ho wo ayee to display ho hello warna print ho byee\n",
    "\n",
    "number = int(input(\"Enter a number: \")) #yahan convert kiya ha input ko int ma \n",
    "if number % 5 == 0 and number % 6 == 0:\n",
    "    print(\"Hello\")\n",
    "else:\n",
    "    print(\"Bye\")\n"
   ]
  },
  {
   "cell_type": "code",
   "execution_count": 169,
   "id": "42e81c8f-0358-4909-9058-ac8a364cbba1",
   "metadata": {},
   "outputs": [
    {
     "name": "stdin",
     "output_type": "stream",
     "text": [
      "Enter first value  2\n",
      "Enter Second value  2\n"
     ]
    },
    {
     "name": "stdout",
     "output_type": "stream",
     "text": [
      "both the number are equal\n"
     ]
    }
   ],
   "source": [
    "# Take two int values from user and print greatest among them.\n",
    "\n",
    "value1= int (input(\"Enter first value \"))\n",
    "value2= int (input(\"Enter Second value \"))\n",
    "\n",
    "if value1 > value2:\n",
    "    print (\"The greater number is  \" , value1)\n",
    "    \n",
    "elif   value2 > value1:\n",
    "    print (\"The greater number is  \", value2)\n",
    "\n",
    "else:\n",
    "    print(\"both the number are equal\")\n",
    "    "
   ]
  },
  {
   "cell_type": "code",
   "execution_count": 189,
   "id": "97fa620f-ec97-4d88-9056-782000bd68c3",
   "metadata": {},
   "outputs": [
    {
     "name": "stdin",
     "output_type": "stream",
     "text": [
      "Enter you score  1010\n"
     ]
    },
    {
     "name": "stdout",
     "output_type": "stream",
     "text": [
      "invalid score please reenter score\n"
     ]
    }
   ],
   "source": [
    "# A school has following rules for grading system:\n",
    "\n",
    "score = int (input(\"Enter you score \"))\n",
    "\n",
    "if score <0 or score > 100:\n",
    "    print(\"invalid score please reenter score\")\n",
    "\n",
    "else:\n",
    "\n",
    "    if score > 80:\n",
    "        print (\"A grade\")\n",
    "\n",
    "    elif score >=60 and score <=80:\n",
    "        print (\"B grade\")\n",
    "\n",
    "    elif score >=50 and score<60:\n",
    "        print (\"C grade\")\n",
    "\n",
    "    elif score >=45 and score<50:\n",
    "        print (\"d grade\") \n",
    "\n",
    "    else:\n",
    "        print (\"Fail\")\n",
    "\n",
    "\n",
    "        \n",
    "         "
   ]
  },
  {
   "cell_type": "code",
   "execution_count": 197,
   "id": "bc0814d6-30a1-4f7b-90bf-10435816c450",
   "metadata": {},
   "outputs": [
    {
     "name": "stdin",
     "output_type": "stream",
     "text": [
      "Enter first name  imran\n",
      "Enter Second name  ahsan\n"
     ]
    },
    {
     "name": "stdout",
     "output_type": "stream",
     "text": [
      "Your name is =: ahsan imran\n"
     ]
    }
   ],
   "source": [
    "# Write a Python program that accepts the user's first and last name and prints them in reverse order with a space between them.\n",
    "first=(input(\"Enter first name \"))\n",
    "second=(input(\"Enter Second name \"))\n",
    "\n",
    "print(\"Your name is =: \" +second+ \" \" +first)\n"
   ]
  },
  {
   "cell_type": "code",
   "execution_count": 207,
   "id": "bfdd2670-ffba-41cc-bce0-352043e0a6d0",
   "metadata": {},
   "outputs": [
    {
     "name": "stdout",
     "output_type": "stream",
     "text": [
      "Red Black\n"
     ]
    }
   ],
   "source": [
    "#Write a  Python program to display the first and last colors from the following list.\n",
    "\n",
    "#color_list = [\"Red\",\"Green\",\"White\" ,\"Black\"]\n",
    "\n",
    "color_list=[\"Red\",\"Green\",\"White\",\"Black\"]\n",
    "#color_list[0]\n",
    "#color_list[3]\n",
    "print(color_list[0] , color_list[3])"
   ]
  },
  {
   "cell_type": "code",
   "execution_count": 227,
   "id": "5c250d77-8b73-4073-b078-794df710c08b",
   "metadata": {},
   "outputs": [
    {
     "name": "stdout",
     "output_type": "stream",
     "text": [
      "Second highest number is: 45\n"
     ]
    }
   ],
   "source": [
    "# Example list print second higest value\n",
    "numbers = [10, 20, 4, 45, 99]\n",
    "\n",
    "# Sort the list in descending order\n",
    "numbers.sort(reverse=True)\n",
    "\n",
    "# Print the second highest number\n",
    "print(\"Second highest number is:\", numbers[1])\n"
   ]
  },
  {
   "cell_type": "code",
   "execution_count": 229,
   "id": "ab458b6f-6ea6-4691-8373-56f94657ea4b",
   "metadata": {},
   "outputs": [
    {
     "name": "stdin",
     "output_type": "stream",
     "text": [
      "Enter the value of A 10\n",
      "Enter the value of B 12\n"
     ]
    },
    {
     "name": "stdout",
     "output_type": "stream",
     "text": [
      "print the value of A :  12 print the value of B :  10\n"
     ]
    }
   ],
   "source": [
    "# Swap to variables \n",
    "\n",
    "a=int(input(\"Enter the value of A\"))\n",
    "b=int(input(\"Enter the value of B\"))\n",
    "\n",
    "a, b = b, a\n",
    "\n",
    "print(\"print the value of A : \" , a , \"print the value of B : \" ,b )"
   ]
  },
  {
   "cell_type": "code",
   "execution_count": 245,
   "id": "b3fb2f01-a3ff-40fc-b5bd-9c76efa7c8b1",
   "metadata": {},
   "outputs": [
    {
     "name": "stdout",
     "output_type": "stream",
     "text": [
      "File saved as unique_names_emails.xlsx\n"
     ]
    }
   ],
   "source": [
    "# working code to generate XlX file generation ka liya with unique entity \n",
    "import pandas as pd\n",
    "from faker import Faker\n",
    "import os\n",
    "\n",
    "# Initialize Faker to generate fake data\n",
    "fake = Faker()\n",
    "\n",
    "# Create empty lists for the data\n",
    "first_names = []\n",
    "last_names = []\n",
    "emails = set()  # Using a set to ensure unique emails\n",
    "\n",
    "# Track unique combinations of first and last names\n",
    "name_combinations = set()\n",
    "\n",
    "# Generate 100 unique records\n",
    "while len(first_names) < 300000:\n",
    "    first_name = fake.first_name()\n",
    "    last_name = fake.last_name()\n",
    "\n",
    "    # Check if the combination of first name and last name is unique\n",
    "    if (first_name, last_name) not in name_combinations:\n",
    "        # Create a unique email address\n",
    "        email = f\"{first_name.lower()}.{last_name.lower()}@example.com\"\n",
    "        \n",
    "        # Ensure the email is unique\n",
    "        if email not in emails:\n",
    "            # Add unique data to the lists and sets\n",
    "            first_names.append(first_name)\n",
    "            last_names.append(last_name)\n",
    "            emails.add(email)\n",
    "            name_combinations.add((first_name, last_name))\n",
    "\n",
    "# Create DataFrame\n",
    "data = pd.DataFrame({\n",
    "    \"First Name\": first_names,\n",
    "    \"Last Name\": last_names,\n",
    "    \"Email\": list(emails)\n",
    "})\n",
    "\n",
    "# Save to Excel file and print confirmation\n",
    "file_path = \"unique_names_emails.xlsx\"\n",
    "data.to_excel(file_path, index=False)\n",
    "print(f\"File saved as {file_path}\")\n"
   ]
  },
  {
   "cell_type": "code",
   "execution_count": null,
   "id": "e75ac7ee-5cd1-4ba4-b278-0f1a5cdd0322",
   "metadata": {},
   "outputs": [],
   "source": [
    "name= input((\"Enter your name \"))\n",
    "\n",
    "if name == \"hassan\":\n",
    "    print (\"You are Rohit\")\n",
    "\n",
    "else: \n",
    "    print(\"You are not Rohit\")\n",
    "\n"
   ]
  },
  {
   "cell_type": "code",
   "execution_count": null,
   "id": "f692c9d4-8bb0-4da0-b032-be41ee3ae620",
   "metadata": {},
   "outputs": [],
   "source": []
  }
 ],
 "metadata": {
  "kernelspec": {
   "display_name": "Python 3 (ipykernel)",
   "language": "python",
   "name": "python3"
  },
  "language_info": {
   "codemirror_mode": {
    "name": "ipython",
    "version": 3
   },
   "file_extension": ".py",
   "mimetype": "text/x-python",
   "name": "python",
   "nbconvert_exporter": "python",
   "pygments_lexer": "ipython3",
   "version": "3.12.4"
  }
 },
 "nbformat": 4,
 "nbformat_minor": 5
}
