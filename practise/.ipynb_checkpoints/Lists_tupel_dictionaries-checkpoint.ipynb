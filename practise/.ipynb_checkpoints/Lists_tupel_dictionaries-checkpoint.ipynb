{
 "cells": [
  {
   "cell_type": "markdown",
   "id": "744378bc-17d3-4770-861a-9254313c1f86",
   "metadata": {},
   "source": [
    "<h1>List Basics</h1>"
   ]
  },
  {
   "cell_type": "code",
   "execution_count": 10,
   "id": "f229d317-135c-4987-bf52-3ad7112f9488",
   "metadata": {},
   "outputs": [
    {
     "name": "stdout",
     "output_type": "stream",
     "text": [
      "['red', 'green', 'blue']\n",
      "[1, 2, 3, 4]\n",
      "['horse', 4, 'owl', 'elephant', 6, 7]\n"
     ]
    }
   ],
   "source": [
    "# List bnata kysa han \n",
    "\n",
    "imran=[]     #[] brackets list ko indicate krta ha pechan ha list ki ye empty list ha \n",
    "\n",
    "                  # hum list kisi b data ka st bana skta han charactor integer ya phr mix data.\n",
    "\n",
    "#Charactor list define krna ka tareeqa\n",
    "Charac_list=[\"red\", \"green\",\"blue\"] \n",
    "\n",
    "# Intiger list bnana ka tareeqa \n",
    "intlist=[1,2,3,4]\n",
    "\n",
    "# mix list\n",
    "mix_list=[\"horse\",4,\"owl\",\"elephant\",6,7] \n",
    "\n",
    "print(Charac_list)\n",
    "print(intlist)\n",
    "print(mix_list)\n"
   ]
  },
  {
   "cell_type": "markdown",
   "id": "51e7d7d7-001e-41b8-80c1-06cca7ee0743",
   "metadata": {},
   "source": [
    "<h1>Search specific value in the list</h1>"
   ]
  },
  {
   "cell_type": "code",
   "execution_count": 25,
   "id": "b679074e-f076-4e7f-a298-08f967fae3d5",
   "metadata": {},
   "outputs": [
    {
     "name": "stdout",
     "output_type": "stream",
     "text": [
      "elephant\n"
     ]
    }
   ],
   "source": [
    " mix_list=[\"horse\",4,\"owl\",\"elephant\",6,7] \n",
    "\n",
    " #List humara pas 0 sa chulti ha to hum variable ka name dal ka jo address denga wo specific use le ayee ga \n",
    "\n",
    " print (mix_list[3])\n",
    " \n"
   ]
  },
  {
   "cell_type": "code",
   "execution_count": 29,
   "id": "a2b69b22-7bd5-40b4-a6ab-c6546bb32958",
   "metadata": {},
   "outputs": [
    {
     "name": "stdout",
     "output_type": "stream",
     "text": [
      "['owl', 'elephant']\n"
     ]
    }
   ],
   "source": [
    "# Agr mujha specific element list ki form m print krna ha to ma aisia karu ga \n",
    "\n",
    "print(mix_list[2:4])"
   ]
  },
  {
   "cell_type": "markdown",
   "id": "326d11cd-c915-4feb-b193-cc3cdee72297",
   "metadata": {},
   "source": [
    "<h1>Adding Elements to a List</h1>"
   ]
  },
  {
   "cell_type": "code",
   "execution_count": null,
   "id": "64b180e3-2507-435e-80c8-9a26ed93fd68",
   "metadata": {},
   "outputs": [],
   "source": [
    "# For adding element we use certain methods\n",
    "# append(): Single element ko end me add karein.\n",
    "# insert(): Specific index par element add karein.\n",
    "# extend(): Multiple elements ko add karein.\n",
    "\n",
    "\n"
   ]
  },
  {
   "cell_type": "markdown",
   "id": "606376b4-8ff2-4619-881c-c57557f30ca0",
   "metadata": {},
   "source": [
    "<h3>Append Examples</h3>"
   ]
  },
  {
   "cell_type": "code",
   "execution_count": 34,
   "id": "0f8fcb96-5570-4cf9-860a-8e8d31fe19c3",
   "metadata": {},
   "outputs": [
    {
     "name": "stdout",
     "output_type": "stream",
     "text": [
      "[10, 20, 30]\n"
     ]
    }
   ],
   "source": [
    "# append(): Single element ko end me add karna ka liya use hota ha ye end ma hi add krta ha value.\n",
    "\n",
    "# Creating an empty list\n",
    "my_list = []\n",
    "\n",
    "# Appending elements to the list\n",
    "my_list.append(10)\n",
    "my_list.append(20)\n",
    "my_list.append(30)\n",
    "\n",
    "print(my_list)  # Output: [10, 20, 30]\n"
   ]
  },
  {
   "cell_type": "code",
   "execution_count": 36,
   "id": "bade2e20-7b8a-40dc-a40e-13aebbcb64f1",
   "metadata": {},
   "outputs": [
    {
     "name": "stdout",
     "output_type": "stream",
     "text": [
      "['apple', 'banana', 'cherry']\n"
     ]
    }
   ],
   "source": [
    "# Creating a list with some string values\n",
    "my_list = [\"apple\", \"banana\"]\n",
    "\n",
    "# Appending a string to the list\n",
    "my_list.append(\"cherry\")\n",
    "\n",
    "print(my_list)  # Output: [\"apple\", \"banana\", \"cherry\"]\n"
   ]
  },
  {
   "cell_type": "code",
   "execution_count": 38,
   "id": "dd5a36e9-0e6e-4659-b0de-f526601955ad",
   "metadata": {},
   "outputs": [
    {
     "name": "stdout",
     "output_type": "stream",
     "text": [
      "[1, 2, 3, [4, 5]]\n"
     ]
    }
   ],
   "source": [
    "# Creating two lists # Appending a List to Another List\n",
    "list1 = [1, 2, 3]\n",
    "list2 = [4, 5]\n",
    "\n",
    "# Appending list2 to list1\n",
    "list1.append(list2)\n",
    "\n",
    "print(list1)  # Output: [1, 2, 3, [4, 5]]\n"
   ]
  },
  {
   "cell_type": "code",
   "execution_count": 40,
   "id": "c2e2c977-351e-426e-9932-60c4240b90c0",
   "metadata": {},
   "outputs": [
    {
     "name": "stdout",
     "output_type": "stream",
     "text": [
      "[{'name': 'John', 'age': 25}]\n"
     ]
    }
   ],
   "source": [
    "# Creating an empty list Appending a Dictionary to a List\n",
    "my_list = []\n",
    "\n",
    "# Creating a dictionary\n",
    "my_dict = {\"name\": \"John\", \"age\": 25}\n",
    "\n",
    "# Appending the dictionary to the list\n",
    "my_list.append(my_dict)\n",
    "\n",
    "print(my_list)  # Output: [{'name': 'John', 'age': 25}]\n"
   ]
  },
  {
   "cell_type": "code",
   "execution_count": 42,
   "id": "79711adf-dec2-4af9-93a3-4792e537ebfb",
   "metadata": {},
   "outputs": [
    {
     "name": "stdout",
     "output_type": "stream",
     "text": [
      "[(1, 2, 3)]\n"
     ]
    }
   ],
   "source": [
    "# Creating an empty list Appending a Tuple to a List\n",
    "my_list = []\n",
    "\n",
    "# Creating a tuple\n",
    "my_tuple = (1, 2, 3)\n",
    "\n",
    "# Appending the tuple to the list\n",
    "my_list.append(my_tuple)\n",
    "\n",
    "print(my_list)  # Output: [(1, 2, 3)]\n"
   ]
  },
  {
   "cell_type": "code",
   "execution_count": 44,
   "id": "bd6d98ad-e6e7-4c31-ac41-eff5849e71d8",
   "metadata": {},
   "outputs": [
    {
     "data": {
      "text/plain": [
       "['imran', 'ahsan', 'sia', 'jangi']"
      ]
     },
     "execution_count": 44,
     "metadata": {},
     "output_type": "execute_result"
    }
   ],
   "source": [
    "imran=[\"imran\",\"ahsan\",\"sia\"]\n",
    "imran.append(\"jangi\")\n",
    "imran"
   ]
  },
  {
   "cell_type": "code",
   "execution_count": 56,
   "id": "c01c6907-b79d-4abf-8fcc-e763c43a37e9",
   "metadata": {},
   "outputs": [
    {
     "name": "stdout",
     "output_type": "stream",
     "text": [
      "[1, 2, 3, 56]\n"
     ]
    }
   ],
   "source": [
    "imran_int=[1,2,3]\n",
    "imran_int.append(56)\n",
    "print(imran_int)"
   ]
  },
  {
   "cell_type": "code",
   "execution_count": 81,
   "id": "353ef6a3-084d-4d8f-aac1-7558fd5d06d3",
   "metadata": {},
   "outputs": [
    {
     "name": "stdout",
     "output_type": "stream",
     "text": [
      "[[1, 2], [3, 4], [5, 6], [7, 8]]\n"
     ]
    }
   ],
   "source": [
    "list_of_lists = [[1, 2], [3, 4], [5, 6]]\n",
    "\n",
    "# Append a new list at the end\n",
    "list_of_lists.append([7, 8])\n",
    "\n",
    "print(list_of_lists)\n"
   ]
  },
  {
   "cell_type": "markdown",
   "id": "c83f60fc-2da3-47a2-8baf-7beba7527044",
   "metadata": {},
   "source": [
    "<h3>insert(): Adds an element at a specific position:</h3>"
   ]
  },
  {
   "cell_type": "code",
   "execution_count": 61,
   "id": "95a4cfe6-752d-49ae-a24f-ce16914a798e",
   "metadata": {},
   "outputs": [
    {
     "name": "stdout",
     "output_type": "stream",
     "text": [
      "[1, 'Python', 2, 3]\n"
     ]
    }
   ],
   "source": [
    "# Insert apki list m ap specific jaga per apko value add krna ki sahulat deta ha \n",
    "\n",
    "mylist=[1,2,3]\n",
    "\n",
    "mylist.insert(1, \"Python\")    #(1) ya index ha position ha ye jahan add krni ha value or (\"puthon\") iski value ha jo add hogi\n",
    "print(mylist)  # Output: [1, 'Python', 2, 3]\n",
    "\n"
   ]
  },
  {
   "cell_type": "code",
   "execution_count": 65,
   "id": "fa8cff36-6760-465f-9978-87bc89c66451",
   "metadata": {},
   "outputs": [
    {
     "name": "stdout",
     "output_type": "stream",
     "text": [
      "[1, 43, 2, 3]\n"
     ]
    }
   ],
   "source": [
    "# Insert apki list m ap specific jaga per apko value add krna ki sahulat deta ha \n",
    "\n",
    "mylist=[1,2,3]\n",
    "\n",
    "mylist.insert(1, 43)    #(1) ya index ha position ha ye jahan add krni ha value or (\"puthon\") iski value ha jo add hogi\n",
    "print(mylist)  # Output: [1, 'Python', 2, 3]\n",
    "\n"
   ]
  },
  {
   "cell_type": "code",
   "execution_count": 67,
   "id": "b5820d69-020d-46ce-8b33-b71437687be4",
   "metadata": {},
   "outputs": [
    {
     "name": "stdout",
     "output_type": "stream",
     "text": [
      "[5, 10, 20, 30]\n"
     ]
    }
   ],
   "source": [
    "# Creating a list   Insert at the beginning of the list\n",
    "my_list = [10, 20, 30]\n",
    "\n",
    "# Inserting 5 at index 0 (beginning of the list)\n",
    "my_list.insert(0, 5)\n",
    "\n",
    "print(my_list)  # Output: [5, 10, 20, 30]\n"
   ]
  },
  {
   "cell_type": "code",
   "execution_count": 69,
   "id": "a86a66d5-178e-4143-b185-600326c5c5fa",
   "metadata": {},
   "outputs": [
    {
     "name": "stdout",
     "output_type": "stream",
     "text": [
      "[1, 2, 3, 4]\n"
     ]
    }
   ],
   "source": [
    "# Creating a list Insert at the end of the list\n",
    "my_list = [1, 2, 3]\n",
    "\n",
    "# Inserting 4 at the last position (index = len(my_list))\n",
    "my_list.insert(len(my_list), 4)\n",
    "\n",
    "print(my_list)  # Output: [1, 2, 3, 4]\n"
   ]
  },
  {
   "cell_type": "code",
   "execution_count": 83,
   "id": "e7b7b42b-f356-4455-928b-0b07fb7919cc",
   "metadata": {},
   "outputs": [
    {
     "name": "stdout",
     "output_type": "stream",
     "text": [
      "[[1, 2], [7, 8], [3, 4], [5, 6]]\n"
     ]
    }
   ],
   "source": [
    "list_of_lists = [[1, 2], [3, 4], [5, 6]]\n",
    "\n",
    "# Insert a new list at the second position (index 1)\n",
    "list_of_lists.insert(1, [7, 8])  # 1 index per ye value insert kr dega \n",
    "\n",
    "print(list_of_lists)\n"
   ]
  },
  {
   "cell_type": "markdown",
   "id": "ffc22627-b9f9-4191-9f1a-13afd511931f",
   "metadata": {},
   "source": [
    "<h1>Remove values in the List</h1>"
   ]
  },
  {
   "cell_type": "markdown",
   "id": "09d6ed35-4c49-4091-9c7e-4db20db3d1ac",
   "metadata": {},
   "source": [
    "<h3>\n",
    "remove(value): Removes the first occurrence of value from the list. </br>\n",
    "pop(index): Removes the element at the specified index (or the last element if no index is specified). </br>\n",
    "del: Deletes an element or slice of elements by index. </br>\n",
    "clear(): Removes all elements from the list.\n",
    "    \n",
    "</h3>"
   ]
  },
  {
   "cell_type": "code",
   "execution_count": 76,
   "id": "f6cbb7d2-ffc2-4c9a-a1d1-3cfc6b78f6a4",
   "metadata": {},
   "outputs": [
    {
     "name": "stdout",
     "output_type": "stream",
     "text": [
      "[1, 2, 4]\n"
     ]
    }
   ],
   "source": [
    "#remove hum value ko remove krna ka liya use krta han or remove m hum direct value deta ha jo hmne remove krni ha \n",
    "my_list = [1, 2, 3, 4]\n",
    "my_list.remove(3)    # (3) is not a index its a value that exist in list\n",
    "print(my_list)  # Output: [1, 2, 4]\n"
   ]
  },
  {
   "cell_type": "code",
   "execution_count": 85,
   "id": "a2dc83ba-a765-40f1-bf12-963bd8010217",
   "metadata": {},
   "outputs": [
    {
     "name": "stdout",
     "output_type": "stream",
     "text": [
      "[[1, 2], [5, 6]]\n"
     ]
    }
   ],
   "source": [
    "list_of_lists = [[1, 2], [3, 4], [5, 6]]\n",
    "\n",
    "# Remove a specific value from the list\n",
    "list_of_lists.remove([3, 4])\n",
    "\n",
    "print(list_of_lists)\n"
   ]
  },
  {
   "cell_type": "markdown",
   "id": "b3e0b204-ee1a-413d-9135-1f54750e2713",
   "metadata": {},
   "source": [
    "<h2> POP</h2>"
   ]
  },
  {
   "cell_type": "code",
   "execution_count": 90,
   "id": "5e292c56-cd20-4192-9351-f429287c6b64",
   "metadata": {},
   "outputs": [
    {
     "name": "stdout",
     "output_type": "stream",
     "text": [
      "[[1, 2], [5, 6]]\n"
     ]
    }
   ],
   "source": [
    "# ye index ma sa delete krta ha values\n",
    "list_of_lists = [[1, 2], [3, 4], [5, 6]]\n",
    "\n",
    "# Remove the element at index 1\n",
    "list_of_lists.pop(1)\n",
    "\n",
    "print(list_of_lists)  # List after removal\n"
   ]
  },
  {
   "cell_type": "code",
   "execution_count": 92,
   "id": "9087890c-7c2f-4345-a5d3-b53e4df3c732",
   "metadata": {},
   "outputs": [
    {
     "name": "stdout",
     "output_type": "stream",
     "text": [
      "[[1, 2], [3, 4]]\n"
     ]
    }
   ],
   "source": [
    "#agr pop ma index nh diya jyee to ye end wali value delete kr deta ha \n",
    "\n",
    "list_of_lists = [[1, 2], [3, 4], [5, 6]]\n",
    "\n",
    "# Remove the last element (default behavior of pop)\n",
    "list_of_lists.pop()\n",
    "\n",
    "print(list_of_lists)  # List after removal\n"
   ]
  },
  {
   "cell_type": "code",
   "execution_count": null,
   "id": "ff9315d3-683f-46ea-9db9-eb184b672d82",
   "metadata": {},
   "outputs": [],
   "source": [
    "# Appending a Dictionary to a List and Using pop()\n",
    "\n",
    "# Initial list\n",
    "list_of_dicts = [{\"name\": \"Alice\"}, {\"name\": \"Bob\"}, {\"name\": \"Charlie\"}]\n",
    "\n",
    "# Append a dictionary to the list\n",
    "list_of_dicts.append({\"name\": \"David\"})\n",
    "\n",
    "print(\"List after appending:\", list_of_dicts)\n",
    "\n",
    "# Use pop() to remove the last dictionary (default behavior)\n",
    "list_of_dicts.pop()\n",
    "\n",
    "print(\"List after pop:\", list_of_dicts)\n",
    "print(\"Removed dictionary:\", list_of_dicts)\n"
   ]
  }
 ],
 "metadata": {
  "kernelspec": {
   "display_name": "Python 3 (ipykernel)",
   "language": "python",
   "name": "python3"
  },
  "language_info": {
   "codemirror_mode": {
    "name": "ipython",
    "version": 3
   },
   "file_extension": ".py",
   "mimetype": "text/x-python",
   "name": "python",
   "nbconvert_exporter": "python",
   "pygments_lexer": "ipython3",
   "version": "3.12.4"
  }
 },
 "nbformat": 4,
 "nbformat_minor": 5
}
