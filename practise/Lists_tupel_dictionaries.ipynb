{
 "cells": [
  {
   "cell_type": "markdown",
   "id": "744378bc-17d3-4770-861a-9254313c1f86",
   "metadata": {},
   "source": [
    "<h1>List Basics</h1>"
   ]
  },
  {
   "cell_type": "code",
   "execution_count": 10,
   "id": "f229d317-135c-4987-bf52-3ad7112f9488",
   "metadata": {},
   "outputs": [
    {
     "name": "stdout",
     "output_type": "stream",
     "text": [
      "['red', 'green', 'blue']\n",
      "[1, 2, 3, 4]\n",
      "['horse', 4, 'owl', 'elephant', 6, 7]\n"
     ]
    }
   ],
   "source": [
    "# List bnata kysa han \n",
    "\n",
    "imran=[]     #[] brackets list ko indicate krta ha pechan ha list ki ye empty list ha \n",
    "\n",
    "                  # hum list kisi b data ka st bana skta han charactor integer ya phr mix data.\n",
    "\n",
    "#Charactor list define krna ka tareeqa\n",
    "Charac_list=[\"red\", \"green\",\"blue\"] \n",
    "\n",
    "# Intiger list bnana ka tareeqa \n",
    "intlist=[1,2,3,4]\n",
    "\n",
    "# mix list\n",
    "mix_list=[\"horse\",4,\"owl\",\"elephant\",6,7] \n",
    "\n",
    "print(Charac_list)\n",
    "print(intlist)\n",
    "print(mix_list)\n"
   ]
  },
  {
   "cell_type": "markdown",
   "id": "51e7d7d7-001e-41b8-80c1-06cca7ee0743",
   "metadata": {},
   "source": [
    "<h1>Search specific value in the list</h1>"
   ]
  },
  {
   "cell_type": "code",
   "execution_count": 25,
   "id": "b679074e-f076-4e7f-a298-08f967fae3d5",
   "metadata": {},
   "outputs": [
    {
     "name": "stdout",
     "output_type": "stream",
     "text": [
      "elephant\n"
     ]
    }
   ],
   "source": [
    " mix_list=[\"horse\",4,\"owl\",\"elephant\",6,7] \n",
    "\n",
    " #List humara pas 0 sa chulti ha to hum variable ka name dal ka jo address denga wo specific use le ayee ga \n",
    "\n",
    " print (mix_list[3])\n",
    " \n"
   ]
  },
  {
   "cell_type": "code",
   "execution_count": 29,
   "id": "a2b69b22-7bd5-40b4-a6ab-c6546bb32958",
   "metadata": {},
   "outputs": [
    {
     "name": "stdout",
     "output_type": "stream",
     "text": [
      "['owl', 'elephant']\n"
     ]
    }
   ],
   "source": [
    "# Agr mujha specific element list ki form m print krna ha to ma aisia karu ga \n",
    "\n",
    "print(mix_list[2:4])"
   ]
  },
  {
   "cell_type": "markdown",
   "id": "326d11cd-c915-4feb-b193-cc3cdee72297",
   "metadata": {},
   "source": [
    "<h1>Adding Elements to a List</h1>"
   ]
  },
  {
   "cell_type": "code",
   "execution_count": null,
   "id": "64b180e3-2507-435e-80c8-9a26ed93fd68",
   "metadata": {},
   "outputs": [],
   "source": [
    "# For adding element we use certain methods\n",
    "# append(): Single element ko end me add karein.\n",
    "# insert(): Specific index par element add karein.\n",
    "# extend(): Multiple elements ko add karein.\n",
    "\n",
    "\n"
   ]
  },
  {
   "cell_type": "markdown",
   "id": "606376b4-8ff2-4619-881c-c57557f30ca0",
   "metadata": {},
   "source": [
    "<h3>Append Examples</h3>"
   ]
  },
  {
   "cell_type": "code",
   "execution_count": 34,
   "id": "0f8fcb96-5570-4cf9-860a-8e8d31fe19c3",
   "metadata": {},
   "outputs": [
    {
     "name": "stdout",
     "output_type": "stream",
     "text": [
      "[10, 20, 30]\n"
     ]
    }
   ],
   "source": [
    "# append(): Single element ko end me add karna ka liya use hota ha ye end ma hi add krta ha value.\n",
    "\n",
    "# Creating an empty list\n",
    "my_list = []\n",
    "\n",
    "# Appending elements to the list\n",
    "my_list.append(10)\n",
    "my_list.append(20)\n",
    "my_list.append(30)\n",
    "\n",
    "print(my_list)  # Output: [10, 20, 30]\n"
   ]
  },
  {
   "cell_type": "code",
   "execution_count": 36,
   "id": "bade2e20-7b8a-40dc-a40e-13aebbcb64f1",
   "metadata": {},
   "outputs": [
    {
     "name": "stdout",
     "output_type": "stream",
     "text": [
      "['apple', 'banana', 'cherry']\n"
     ]
    }
   ],
   "source": [
    "# Creating a list with some string values\n",
    "my_list = [\"apple\", \"banana\"]\n",
    "\n",
    "# Appending a string to the list\n",
    "my_list.append(\"cherry\")\n",
    "\n",
    "print(my_list)  # Output: [\"apple\", \"banana\", \"cherry\"]\n"
   ]
  },
  {
   "cell_type": "code",
   "execution_count": 38,
   "id": "dd5a36e9-0e6e-4659-b0de-f526601955ad",
   "metadata": {},
   "outputs": [
    {
     "name": "stdout",
     "output_type": "stream",
     "text": [
      "[1, 2, 3, [4, 5]]\n"
     ]
    }
   ],
   "source": [
    "# Creating two lists # Appending a List to Another List\n",
    "list1 = [1, 2, 3]\n",
    "list2 = [4, 5]\n",
    "\n",
    "# Appending list2 to list1\n",
    "list1.append(list2)\n",
    "\n",
    "print(list1)  # Output: [1, 2, 3, [4, 5]]\n"
   ]
  },
  {
   "cell_type": "code",
   "execution_count": 40,
   "id": "c2e2c977-351e-426e-9932-60c4240b90c0",
   "metadata": {},
   "outputs": [
    {
     "name": "stdout",
     "output_type": "stream",
     "text": [
      "[{'name': 'John', 'age': 25}]\n"
     ]
    }
   ],
   "source": [
    "# Creating an empty list Appending a Dictionary to a List\n",
    "my_list = []\n",
    "\n",
    "# Creating a dictionary\n",
    "my_dict = {\"name\": \"John\", \"age\": 25}\n",
    "\n",
    "# Appending the dictionary to the list\n",
    "my_list.append(my_dict)\n",
    "\n",
    "print(my_list)  # Output: [{'name': 'John', 'age': 25}]\n"
   ]
  },
  {
   "cell_type": "code",
   "execution_count": 42,
   "id": "79711adf-dec2-4af9-93a3-4792e537ebfb",
   "metadata": {},
   "outputs": [
    {
     "name": "stdout",
     "output_type": "stream",
     "text": [
      "[(1, 2, 3)]\n"
     ]
    }
   ],
   "source": [
    "# Creating an empty list Appending a Tuple to a List\n",
    "my_list = []\n",
    "\n",
    "# Creating a tuple\n",
    "my_tuple = (1, 2, 3)\n",
    "\n",
    "# Appending the tuple to the list\n",
    "my_list.append(my_tuple)\n",
    "\n",
    "print(my_list)  # Output: [(1, 2, 3)]\n"
   ]
  },
  {
   "cell_type": "code",
   "execution_count": 44,
   "id": "bd6d98ad-e6e7-4c31-ac41-eff5849e71d8",
   "metadata": {},
   "outputs": [
    {
     "data": {
      "text/plain": [
       "['imran', 'ahsan', 'sia', 'jangi']"
      ]
     },
     "execution_count": 44,
     "metadata": {},
     "output_type": "execute_result"
    }
   ],
   "source": [
    "imran=[\"imran\",\"ahsan\",\"sia\"]\n",
    "imran.append(\"jangi\")\n",
    "imran"
   ]
  },
  {
   "cell_type": "code",
   "execution_count": 56,
   "id": "c01c6907-b79d-4abf-8fcc-e763c43a37e9",
   "metadata": {},
   "outputs": [
    {
     "name": "stdout",
     "output_type": "stream",
     "text": [
      "[1, 2, 3, 56]\n"
     ]
    }
   ],
   "source": [
    "imran_int=[1,2,3]\n",
    "imran_int.append(56)\n",
    "print(imran_int)"
   ]
  },
  {
   "cell_type": "code",
   "execution_count": 81,
   "id": "353ef6a3-084d-4d8f-aac1-7558fd5d06d3",
   "metadata": {},
   "outputs": [
    {
     "name": "stdout",
     "output_type": "stream",
     "text": [
      "[[1, 2], [3, 4], [5, 6], [7, 8]]\n"
     ]
    }
   ],
   "source": [
    "list_of_lists = [[1, 2], [3, 4], [5, 6]]\n",
    "\n",
    "# Append a new list at the end\n",
    "list_of_lists.append([7, 8])\n",
    "\n",
    "print(list_of_lists)\n"
   ]
  },
  {
   "cell_type": "markdown",
   "id": "c83f60fc-2da3-47a2-8baf-7beba7527044",
   "metadata": {},
   "source": [
    "<h3>insert(): Adds an element at a specific position:</h3>"
   ]
  },
  {
   "cell_type": "code",
   "execution_count": 61,
   "id": "95a4cfe6-752d-49ae-a24f-ce16914a798e",
   "metadata": {},
   "outputs": [
    {
     "name": "stdout",
     "output_type": "stream",
     "text": [
      "[1, 'Python', 2, 3]\n"
     ]
    }
   ],
   "source": [
    "# Insert apki list m ap specific jaga per apko value add krna ki sahulat deta ha \n",
    "\n",
    "mylist=[1,2,3]\n",
    "\n",
    "mylist.insert(1, \"Python\")    #(1) ya index ha position ha ye jahan add krni ha value or (\"puthon\") iski value ha jo add hogi\n",
    "print(mylist)  # Output: [1, 'Python', 2, 3]\n",
    "\n"
   ]
  },
  {
   "cell_type": "code",
   "execution_count": 65,
   "id": "fa8cff36-6760-465f-9978-87bc89c66451",
   "metadata": {},
   "outputs": [
    {
     "name": "stdout",
     "output_type": "stream",
     "text": [
      "[1, 43, 2, 3]\n"
     ]
    }
   ],
   "source": [
    "# Insert apki list m ap specific jaga per apko value add krna ki sahulat deta ha \n",
    "\n",
    "mylist=[1,2,3]\n",
    "\n",
    "mylist.insert(1, 43)    #(1) ya index ha position ha ye jahan add krni ha value or (\"puthon\") iski value ha jo add hogi\n",
    "print(mylist)  # Output: [1, 'Python', 2, 3]\n",
    "\n"
   ]
  },
  {
   "cell_type": "code",
   "execution_count": 67,
   "id": "b5820d69-020d-46ce-8b33-b71437687be4",
   "metadata": {},
   "outputs": [
    {
     "name": "stdout",
     "output_type": "stream",
     "text": [
      "[5, 10, 20, 30]\n"
     ]
    }
   ],
   "source": [
    "# Creating a list   Insert at the beginning of the list\n",
    "my_list = [10, 20, 30]\n",
    "\n",
    "# Inserting 5 at index 0 (beginning of the list)\n",
    "my_list.insert(0, 5)\n",
    "\n",
    "print(my_list)  # Output: [5, 10, 20, 30]\n"
   ]
  },
  {
   "cell_type": "code",
   "execution_count": 69,
   "id": "a86a66d5-178e-4143-b185-600326c5c5fa",
   "metadata": {},
   "outputs": [
    {
     "name": "stdout",
     "output_type": "stream",
     "text": [
      "[1, 2, 3, 4]\n"
     ]
    }
   ],
   "source": [
    "# Creating a list Insert at the end of the list\n",
    "my_list = [1, 2, 3]\n",
    "\n",
    "# Inserting 4 at the last position (index = len(my_list))\n",
    "my_list.insert(len(my_list), 4)\n",
    "\n",
    "print(my_list)  # Output: [1, 2, 3, 4]\n"
   ]
  },
  {
   "cell_type": "code",
   "execution_count": 83,
   "id": "e7b7b42b-f356-4455-928b-0b07fb7919cc",
   "metadata": {},
   "outputs": [
    {
     "name": "stdout",
     "output_type": "stream",
     "text": [
      "[[1, 2], [7, 8], [3, 4], [5, 6]]\n"
     ]
    }
   ],
   "source": [
    "list_of_lists = [[1, 2], [3, 4], [5, 6]]\n",
    "\n",
    "# Insert a new list at the second position (index 1)\n",
    "list_of_lists.insert(1, [7, 8])  # 1 index per ye value insert kr dega \n",
    "\n",
    "print(list_of_lists)\n"
   ]
  },
  {
   "cell_type": "code",
   "execution_count": 102,
   "id": "139c7002-4251-4aaa-8607-2bb8afca238e",
   "metadata": {},
   "outputs": [
    {
     "name": "stdout",
     "output_type": "stream",
     "text": [
      "List after insertion: [{'name': 'Alice'}, {'Inserted': 'David'}, {'name': 'Bob'}, {'name': 'Charlie'}]\n"
     ]
    }
   ],
   "source": [
    "# Initial list Inserting a Dictionary into a List\n",
    "list_of_dicts = [{\"name\": \"Alice\"}, {\"name\": \"Bob\"}, {\"name\": \"Charlie\"}]\n",
    "\n",
    "# Insert a dictionary at index 1 (second position)\n",
    "list_of_dicts.insert(1, {\"Inserted\": \"David\"})\n",
    "\n",
    "print(\"List after insertion:\", list_of_dicts)\n"
   ]
  },
  {
   "cell_type": "markdown",
   "id": "ffc22627-b9f9-4191-9f1a-13afd511931f",
   "metadata": {},
   "source": [
    "<h1>Remove values in the List</h1>"
   ]
  },
  {
   "cell_type": "markdown",
   "id": "09d6ed35-4c49-4091-9c7e-4db20db3d1ac",
   "metadata": {},
   "source": [
    "<h3>\n",
    "remove(value): Removes the first occurrence of value from the list. </br>\n",
    "pop(index): Removes the element at the specified index (or the last element if no index is specified). </br>\n",
    "del: Deletes an element or slice of elements by index. </br>\n",
    "clear(): Removes all elements from the list.\n",
    "    \n",
    "</h3>"
   ]
  },
  {
   "cell_type": "code",
   "execution_count": 76,
   "id": "f6cbb7d2-ffc2-4c9a-a1d1-3cfc6b78f6a4",
   "metadata": {},
   "outputs": [
    {
     "name": "stdout",
     "output_type": "stream",
     "text": [
      "[1, 2, 4]\n"
     ]
    }
   ],
   "source": [
    "#remove hum value ko remove krna ka liya use krta han or remove m hum direct value deta ha jo hmne remove krni ha \n",
    "my_list = [1, 2, 3, 4]\n",
    "my_list.remove(3)    # (3) is not a index its a value that exist in list\n",
    "print(my_list)  # Output: [1, 2, 4]\n"
   ]
  },
  {
   "cell_type": "code",
   "execution_count": 85,
   "id": "a2dc83ba-a765-40f1-bf12-963bd8010217",
   "metadata": {},
   "outputs": [
    {
     "name": "stdout",
     "output_type": "stream",
     "text": [
      "[[1, 2], [5, 6]]\n"
     ]
    }
   ],
   "source": [
    "list_of_lists = [[1, 2], [3, 4], [5, 6]]\n",
    "\n",
    "# Remove a specific value from the list\n",
    "list_of_lists.remove([3, 4])\n",
    "\n",
    "print(list_of_lists)\n"
   ]
  },
  {
   "cell_type": "markdown",
   "id": "b3e0b204-ee1a-413d-9135-1f54750e2713",
   "metadata": {},
   "source": [
    "<h2> POP</h2>"
   ]
  },
  {
   "cell_type": "code",
   "execution_count": 90,
   "id": "5e292c56-cd20-4192-9351-f429287c6b64",
   "metadata": {},
   "outputs": [
    {
     "name": "stdout",
     "output_type": "stream",
     "text": [
      "[[1, 2], [5, 6]]\n"
     ]
    }
   ],
   "source": [
    "# ye index ma sa delete krta ha values\n",
    "list_of_lists = [[1, 2], [3, 4], [5, 6]]\n",
    "\n",
    "# Remove the element at index 1\n",
    "list_of_lists.pop(1)\n",
    "\n",
    "print(list_of_lists)  # List after removal\n"
   ]
  },
  {
   "cell_type": "code",
   "execution_count": 92,
   "id": "9087890c-7c2f-4345-a5d3-b53e4df3c732",
   "metadata": {},
   "outputs": [
    {
     "name": "stdout",
     "output_type": "stream",
     "text": [
      "[[1, 2], [3, 4]]\n"
     ]
    }
   ],
   "source": [
    "#agr pop ma index nh diya jyee to ye end wali value delete kr deta ha \n",
    "\n",
    "list_of_lists = [[1, 2], [3, 4], [5, 6]]\n",
    "\n",
    "# Remove the last element (default behavior of pop)\n",
    "list_of_lists.pop()\n",
    "\n",
    "print(list_of_lists)  # List after removal\n"
   ]
  },
  {
   "cell_type": "code",
   "execution_count": 98,
   "id": "ff9315d3-683f-46ea-9db9-eb184b672d82",
   "metadata": {},
   "outputs": [
    {
     "name": "stdout",
     "output_type": "stream",
     "text": [
      "List after appending: [{'name': 'Alice'}, {'name': 'Bob'}, {'name': 'Charlie'}, {'Appended_Name': 'David'}]\n",
      "List after pop: [{'name': 'Alice'}, {'name': 'Charlie'}, {'Appended_Name': 'David'}]\n",
      "Removed dictionary: [{'name': 'Alice'}, {'name': 'Charlie'}, {'Appended_Name': 'David'}]\n"
     ]
    }
   ],
   "source": [
    "# Appending a Dictionary to a List and Using pop()\n",
    "\n",
    "# Initial list\n",
    "list_of_dicts = [{\"name\": \"Alice\"}, {\"name\": \"Bob\"}, {\"name\": \"Charlie\"}]\n",
    "\n",
    "# Append a dictionary to the list\n",
    "list_of_dicts.append({\"Appended_Name\": \"David\"})\n",
    "\n",
    "print(\"List after appending:\", list_of_dicts)\n",
    "\n",
    "# Use pop() to remove the last dictionary (default behavior)\n",
    "list_of_dicts.pop(1)\n",
    "\n",
    "print(\"List after pop:\", list_of_dicts)\n",
    "print(\"Removed dictionary:\", list_of_dicts)\n"
   ]
  },
  {
   "cell_type": "markdown",
   "id": "1de5d13d-2938-428e-81b2-d2c46c2ff4ef",
   "metadata": {},
   "source": [
    "<h2>Modifying Elements in a List</h2>"
   ]
  },
  {
   "cell_type": "code",
   "execution_count": 105,
   "id": "2616557d-0723-4221-81fb-716d81b9337c",
   "metadata": {},
   "outputs": [
    {
     "name": "stdout",
     "output_type": "stream",
     "text": [
      "[10, 25, 30]\n"
     ]
    }
   ],
   "source": [
    "my_list = [10, 20, 30]\n",
    "my_list[1] = 25\n",
    "print(my_list)  # Output: [10, 25, 30]\n"
   ]
  },
  {
   "cell_type": "code",
   "execution_count": 109,
   "id": "8939a158-68f0-4808-99ed-841bf7851602",
   "metadata": {},
   "outputs": [
    {
     "name": "stdout",
     "output_type": "stream",
     "text": [
      "List after modification: [{'name': 'Alice'}, {'lname': 'David'}, {'name': 'Charlie'}]\n"
     ]
    }
   ],
   "source": [
    "# Initial list    Modifying Elements in a List\n",
    "list_of_dicts = [{\"name\": \"Alice\"}, {\"name\": \"Bob\"}, {\"name\": \"Charlie\"}]\n",
    "\n",
    "# Modifying the second element (index 1)\n",
    "list_of_dicts[1] = {\"lname\": \"David\"}\n",
    "\n",
    "print(\"List after modification:\", list_of_dicts)\n"
   ]
  },
  {
   "cell_type": "code",
   "execution_count": 113,
   "id": "56663229-6034-4d0f-a43d-da59c4a6dbfc",
   "metadata": {},
   "outputs": [
    {
     "name": "stdout",
     "output_type": "stream",
     "text": [
      "List after modifying dictionary value: [{'name': 'Alice'}, {'name': 'Bob', 'lname': 'David'}, {'name': 'Charlie'}]\n"
     ]
    }
   ],
   "source": [
    "#add Dictionary specif value Inside a List \n",
    "\n",
    "# Initial list\n",
    "list_of_dicts = [{\"name\": \"Alice\"}, {\"name\": \"Bob\"}, {\"name\": \"Charlie\"}]\n",
    "\n",
    "# Modifying a key-value pair in the second dictionary\n",
    "list_of_dicts[1][\"lname\"] = \"David\"\n",
    "\n",
    "print(\"List after modifying dictionary value:\", list_of_dicts)\n"
   ]
  },
  {
   "cell_type": "code",
   "execution_count": 115,
   "id": "67e8c637-05f5-415e-940c-19ab2ebfc78d",
   "metadata": {},
   "outputs": [
    {
     "name": "stdout",
     "output_type": "stream",
     "text": [
      "List after modifying dictionary value: [{'name': 'Alice'}, {'lname': 'David'}, {'mname': 'Charlie'}]\n"
     ]
    }
   ],
   "source": [
    "#modify value in  Dictionary value Inside a List\n",
    "\n",
    "# Initial list\n",
    "list_of_dicts = [{\"name\": \"Alice\"}, {\"lname\": \"Bob\"}, {\"mname\": \"Charlie\"}]\n",
    "\n",
    "# Modifying a key-value pair in the second dictionary\n",
    "list_of_dicts[1][\"lname\"] = \"David\"\n",
    "\n",
    "print(\"List after modifying dictionary value:\", list_of_dicts)\n"
   ]
  },
  {
   "cell_type": "code",
   "execution_count": 117,
   "id": "5dbe590a-84a2-44a0-87ec-46bfc5e02342",
   "metadata": {},
   "outputs": [
    {
     "name": "stdout",
     "output_type": "stream",
     "text": [
      "List after removing key: [{'name': 'Alice'}, {'name': 'Bob'}, {'name': 'Charlie'}]\n"
     ]
    }
   ],
   "source": [
    "#Using del to Remove a Key-Value Pair\n",
    "\n",
    "# Initial list\n",
    "list_of_dicts = [{\"name\": \"Alice\"}, {\"name\": \"Bob\", \"age\": 30}, {\"name\": \"Charlie\"}]\n",
    "\n",
    "# Remove the \"age\" key from the dictionary with \"name\": \"Bob\"\n",
    "del list_of_dicts[1][\"age\"]\n",
    "\n",
    "print(\"List after removing key:\", list_of_dicts)\n"
   ]
  },
  {
   "cell_type": "code",
   "execution_count": 119,
   "id": "99a17fc6-9bb2-4003-be5a-950cd9bbd811",
   "metadata": {},
   "outputs": [
    {
     "name": "stdout",
     "output_type": "stream",
     "text": [
      "List after removing key: [{'name': 'Alice'}, {'name': 'Bob'}, {'name': 'Charlie'}]\n",
      "Removed value: 30\n"
     ]
    }
   ],
   "source": [
    "#Using pop() to Remove a Key-Value Pair\n",
    "\n",
    "# Initial list\n",
    "list_of_dicts = [{\"name\": \"Alice\"}, {\"name\": \"Bob\", \"age\": 30}, {\"name\": \"Charlie\"}]\n",
    "\n",
    "# Remove and return the \"age\" key from the dictionary with \"name\": \"Bob\"\n",
    "removed_value = list_of_dicts[1].pop(\"age\")\n",
    "\n",
    "print(\"List after removing key:\", list_of_dicts)\n",
    "print(\"Removed value:\", removed_value)\n"
   ]
  },
  {
   "cell_type": "markdown",
   "id": "236a1ffb-d1e8-47ff-b58d-56250166b74d",
   "metadata": {},
   "source": [
    "<h1>Loop in list</h1>"
   ]
  },
  {
   "cell_type": "code",
   "execution_count": 122,
   "id": "70078b93-17ba-48d2-ac3f-8d30eed2db86",
   "metadata": {},
   "outputs": [
    {
     "name": "stdout",
     "output_type": "stream",
     "text": [
      "1\n",
      "2\n",
      "3\n",
      "4\n",
      "5\n"
     ]
    }
   ],
   "source": [
    "my_list = [1, 2, 3, 4, 5]\n",
    "\n",
    "# Using a for loop\n",
    "for item in my_list:\n",
    "    print(item)\n"
   ]
  },
  {
   "cell_type": "code",
   "execution_count": 124,
   "id": "30112aa4-4668-4697-a603-2cbd80596e65",
   "metadata": {},
   "outputs": [
    {
     "name": "stdout",
     "output_type": "stream",
     "text": [
      "1 is odd\n",
      "2 is even\n",
      "3 is odd\n",
      "4 is even\n",
      "5 is odd\n"
     ]
    }
   ],
   "source": [
    "#Agar aap list ke numbers ko check karna chahte hain ke wo even hain ya odd:\n",
    "my_list = [1, 2, 3, 4, 5]\n",
    "\n",
    "# Using a for loop to check even and odd numbers\n",
    "for item in my_list:\n",
    "    if item % 2 == 0:\n",
    "        print(f\"{item} is even\")\n",
    "    else:\n",
    "        print(f\"{item} is odd\")\n"
   ]
  },
  {
   "cell_type": "code",
   "execution_count": 126,
   "id": "62c8f5f4-63b3-42d5-84fd-a7bdb8145dc1",
   "metadata": {},
   "outputs": [
    {
     "name": "stdout",
     "output_type": "stream",
     "text": [
      "New list: [2, 4, 6, 8, 10]\n"
     ]
    }
   ],
   "source": [
    "#Multiplying Each Element of a List by 2\n",
    "\n",
    "my_list = [1, 2, 3, 4, 5]\n",
    "\n",
    "# Using a for loop to multiply each element by 2\n",
    "new_list = []\n",
    "for item in my_list:\n",
    "    new_list.append(item * 2)\n",
    "\n",
    "print(\"New list:\", new_list)\n"
   ]
  },
  {
   "cell_type": "code",
   "execution_count": 128,
   "id": "2d467eb8-0a17-4a43-abd7-5c8f980e3d05",
   "metadata": {},
   "outputs": [
    {
     "name": "stdout",
     "output_type": "stream",
     "text": [
      "Maximum value: 5\n",
      "Minimum value: 1\n"
     ]
    }
   ],
   "source": [
    "#Finding Maximum and Minimum Value in a List\n",
    "\n",
    "my_list = [1, 2, 3, 4, 5]\n",
    "\n",
    "# Using a for loop to find max and min\n",
    "max_value = my_list[0]  # Initialize with first element\n",
    "min_value = my_list[0]  # Initialize with first element\n",
    "\n",
    "for item in my_list:\n",
    "    if item > max_value:\n",
    "        max_value = item\n",
    "    if item < min_value:\n",
    "        min_value = item\n",
    "\n",
    "print(\"Maximum value:\", max_value)\n",
    "print(\"Minimum value:\", min_value)\n"
   ]
  },
  {
   "cell_type": "code",
   "execution_count": 130,
   "id": "a5534611-a912-4079-999c-e2cac4218ac3",
   "metadata": {},
   "outputs": [
    {
     "name": "stdout",
     "output_type": "stream",
     "text": [
      "Occurrences of 2: 3\n"
     ]
    }
   ],
   "source": [
    "#Counting Occurrences of an Item in a List\n",
    "\n",
    "my_list = [1, 2, 3, 2, 4, 2, 5]\n",
    "\n",
    "# Count occurrences of the number 2\n",
    "count = 0\n",
    "for item in my_list:\n",
    "    if item == 2:\n",
    "        count += 1\n",
    "\n",
    "print(\"Occurrences of 2:\", count)\n"
   ]
  },
  {
   "cell_type": "code",
   "execution_count": 132,
   "id": "cfb6781c-da43-49d3-b4ce-7f3be1ed0eac",
   "metadata": {},
   "outputs": [
    {
     "name": "stdout",
     "output_type": "stream",
     "text": [
      "Reversed list: [5, 4, 3, 2, 1]\n"
     ]
    }
   ],
   "source": [
    "#Reversing a List Using a For Loop\n",
    "\n",
    "my_list = [1, 2, 3, 4, 5]\n",
    "\n",
    "# Reversing the list\n",
    "reversed_list = []\n",
    "for item in my_list:\n",
    "    reversed_list.insert(0, item)  # Insert at the beginning of the new list\n",
    "\n",
    "print(\"Reversed list:\", reversed_list)\n"
   ]
  },
  {
   "cell_type": "code",
   "execution_count": 134,
   "id": "7ddf4723-7c02-4ba7-a070-378f8bc137b7",
   "metadata": {},
   "outputs": [
    {
     "name": "stdout",
     "output_type": "stream",
     "text": [
      "Created Dictionary: {'name': 'Alice', 'age': 25, 'city': 'New York'}\n"
     ]
    }
   ],
   "source": [
    "#Creating a Dictionary from Two Lists\n",
    "\n",
    "keys = ['name', 'age', 'city']\n",
    "values = ['Alice', 25, 'New York']\n",
    "\n",
    "# Creating a dictionary using two lists\n",
    "my_dict = {}\n",
    "for i in range(len(keys)):\n",
    "    my_dict[keys[i]] = values[i]\n",
    "\n",
    "print(\"Created Dictionary:\", my_dict)\n"
   ]
  },
  {
   "cell_type": "code",
   "execution_count": 136,
   "id": "eb778d1e-342f-4622-a211-24aebe93faab",
   "metadata": {},
   "outputs": [
    {
     "name": "stdout",
     "output_type": "stream",
     "text": [
      "List without duplicates: [1, 2, 3, 4, 5]\n"
     ]
    }
   ],
   "source": [
    "#Removing Duplicates from a List\n",
    "\n",
    "my_list = [1, 2, 2, 3, 4, 4, 5]\n",
    "\n",
    "# Removing duplicates\n",
    "unique_list = []\n",
    "for item in my_list:\n",
    "    if item not in unique_list:\n",
    "        unique_list.append(item)\n",
    "\n",
    "print(\"List without duplicates:\", unique_list)\n"
   ]
  },
  {
   "cell_type": "code",
   "execution_count": 138,
   "id": "f2eeecb8-a3d7-40b3-998a-a81f839a1fd2",
   "metadata": {},
   "outputs": [
    {
     "name": "stdout",
     "output_type": "stream",
     "text": [
      "[1, 2, 5, 9]\n"
     ]
    }
   ],
   "source": [
    "#sort(): Sort the list in ascending order:\n",
    "\n",
    "my_list = [5, 2, 9, 1]\n",
    "my_list.sort()\n",
    "print(my_list)  # Output: [1, 2, 5, 9]\n"
   ]
  },
  {
   "cell_type": "code",
   "execution_count": 142,
   "id": "65137201-596f-4dd6-a9f1-8dd5bbca024f",
   "metadata": {},
   "outputs": [
    {
     "name": "stdout",
     "output_type": "stream",
     "text": [
      "[6, 7, 4, 3]\n"
     ]
    }
   ],
   "source": [
    "#reverse(): Reverse the order of the list:\n",
    "\n",
    "imran_list=[3,4,7,6]\n",
    "\n",
    "imran_list.reverse()\n",
    "print(imran_list)"
   ]
  },
  {
   "cell_type": "markdown",
   "id": "18aae762-da30-419b-b9d8-bec569e3c65e",
   "metadata": {},
   "source": [
    "<h2>Slicing a List</h2>"
   ]
  },
  {
   "cell_type": "code",
   "execution_count": 1,
   "id": "b62dda5c-0bd4-4817-8588-8a477ec6f00b",
   "metadata": {},
   "outputs": [
    {
     "name": "stdout",
     "output_type": "stream",
     "text": [
      "[10, 20, 30]\n",
      "[40, 50]\n"
     ]
    }
   ],
   "source": [
    "my_list = [10, 20, 30, 40, 50]\n",
    "\n",
    "# Get the first three elements\n",
    "print(my_list[:3])  # Output: [10, 20, 30]\n",
    "\n",
    "# Get the last two elements\n",
    "print(my_list[-2:])  # Output: [40, 50]\n"
   ]
  },
  {
   "cell_type": "code",
   "execution_count": 7,
   "id": "364b7412-a7ce-4e79-a7ca-da4665564f94",
   "metadata": {},
   "outputs": [
    {
     "name": "stdout",
     "output_type": "stream",
     "text": [
      "File saved as unique_imran_names.xlsx\n"
     ]
    }
   ],
   "source": [
    "import pandas as pd\n",
    "from faker import Faker\n",
    "import random\n",
    "\n",
    "# Initialize Faker to generate fake data\n",
    "fake = Faker()\n",
    "\n",
    "# Number of records to generate\n",
    "num_records = 400000\n",
    "\n",
    "# Generate unique data\n",
    "data = []\n",
    "email_set = set()  # To ensure unique emails\n",
    "\n",
    "for i in range(num_records):\n",
    "    while True:\n",
    "        # Fixed first name as \"Imran\"\n",
    "        first_name = \"Ahsanimran\"\n",
    "\n",
    "        # Generate a unique last name or add uniqueness\n",
    "        last_name = fake.last_name() + str(i)\n",
    "\n",
    "        # Generate email with uniqueness\n",
    "        email = f\"{first_name.lower()}.{last_name.lower()}@example.com\"\n",
    "        \n",
    "        # Ensure unique email\n",
    "        if email not in email_set:\n",
    "            email_set.add(email)\n",
    "            data.append((first_name, last_name, email))\n",
    "            break\n",
    "\n",
    "# Convert to DataFrame\n",
    "df = pd.DataFrame(data, columns=[\"First Name\", \"Last Name\", \"Email\"])\n",
    "\n",
    "# Save to Excel file\n",
    "file_path = \"unique_imran_names.xlsx\"\n",
    "df.to_excel(file_path, index=False)\n",
    "print(f\"File saved as {file_path}\")\n"
   ]
  },
  {
   "cell_type": "code",
   "execution_count": null,
   "id": "1d7db85e-bf73-4247-9480-0e051db03f4d",
   "metadata": {},
   "outputs": [],
   "source": []
  }
 ],
 "metadata": {
  "kernelspec": {
   "display_name": "Python 3 (ipykernel)",
   "language": "python",
   "name": "python3"
  },
  "language_info": {
   "codemirror_mode": {
    "name": "ipython",
    "version": 3
   },
   "file_extension": ".py",
   "mimetype": "text/x-python",
   "name": "python",
   "nbconvert_exporter": "python",
   "pygments_lexer": "ipython3",
   "version": "3.12.4"
  }
 },
 "nbformat": 4,
 "nbformat_minor": 5
}
