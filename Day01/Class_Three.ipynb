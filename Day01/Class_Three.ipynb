{
 "cells": [
  {
   "cell_type": "code",
   "execution_count": null,
   "id": "1453967c-bbeb-4df9-a250-29b4a9b8b0f3",
   "metadata": {},
   "outputs": [
    {
     "name": "stdout",
     "output_type": "stream",
     "text": [
      "Enter your c value 2\n",
      "Enter your d value 2\n"
     ]
    },
    {
     "name": "stdout",
     "output_type": "stream",
     "text": [
      "Your If condition has been meet\n"
     ]
    }
   ],
   "source": [
    "\n",
    "    c=input(\"Enter your c value\")\n",
    "    d=input(\"Enter your d value\")\n",
    "    if c == d:\n",
    "        print(\"Your If condition has been meet\")\n",
    "    #else:\n",
    "    #print(false)\n"
   ]
  },
  {
   "cell_type": "code",
   "execution_count": 35,
   "id": "f88da283-d05f-43f7-8ae5-3b6560546d40",
   "metadata": {},
   "outputs": [
    {
     "name": "stdout",
     "output_type": "stream",
     "text": [
      "hello\n"
     ]
    }
   ],
   "source": [
    "print(\"hello\")"
   ]
  },
  {
   "cell_type": "code",
   "execution_count": null,
   "id": "35726a47-538d-46e2-8667-88a6766db588",
   "metadata": {},
   "outputs": [
    {
     "name": "stdout",
     "output_type": "stream",
     "text": [
      "enter you cat name catt\n"
     ]
    },
    {
     "name": "stdout",
     "output_type": "stream",
     "text": [
      "not a cat\n"
     ]
    }
   ],
   "source": [
    "species=input(\"enter you cat name\")\n",
    "if species == \"cat\":\n",
    " print(\"Yep, it's cat.\")\n",
    "else:\n",
    "    print(\"not a cat\")\n",
    " "
   ]
  },
  {
   "cell_type": "code",
   "execution_count": 65,
   "id": "68e18bd7-0601-4843-9105-bec196118680",
   "metadata": {},
   "outputs": [
    {
     "name": "stdout",
     "output_type": "stream",
     "text": [
      "Enter your experience:  6\n",
      "What is your salary:  1000\n"
     ]
    },
    {
     "name": "stdout",
     "output_type": "stream",
     "text": [
      "Your bonus is:  50.0\n"
     ]
    }
   ],
   "source": [
    "yearofexp = int(input(\"Enter your experience: \"))\n",
    "if yearofexp > 5:\n",
    "    salary = int(input(\"What is your salary: \"))\n",
    "    print(\"Your bonus is: \", 0.05 * salary)\n",
    "else:\n",
    "    print(\"You are not eligible for a bonus\")\n"
   ]
  },
  {
   "cell_type": "code",
   "execution_count": 69,
   "id": "42aa03a4-eac8-4d84-8a5f-d03b77aba334",
   "metadata": {},
   "outputs": [
    {
     "name": "stdout",
     "output_type": "stream",
     "text": [
      "Enetr your age 18\n"
     ]
    },
    {
     "name": "stdout",
     "output_type": "stream",
     "text": [
      "you are eligible to cast the vote\n"
     ]
    }
   ],
   "source": [
    "age=int(input(\"Enetr your age\"))\n",
    "if age>=18:\n",
    "    print(\"you are eligible to cast the vote\")\n",
    "else:\n",
    "    print(\"you are not eligible to cast the vote\")\n",
    "    "
   ]
  },
  {
   "cell_type": "code",
   "execution_count": 73,
   "id": "5b6d6a98-5592-472c-b4ae-a11e5f46ad0e",
   "metadata": {},
   "outputs": [
    {
     "name": "stdout",
     "output_type": "stream",
     "text": [
      "Enter a number:  5\n"
     ]
    },
    {
     "name": "stdout",
     "output_type": "stream",
     "text": [
      "Hello\n"
     ]
    }
   ],
   "source": [
    "# wo number jo 5 sa divide hota ho wo ayee to display ho hello warna print ho byee\n",
    "number = int(input(\"Enter a number: \"))\n",
    "if number % 5 == 0:\n",
    "    print(\"Hello\")\n",
    "else:\n",
    "    print(\"Bye\")\n"
   ]
  },
  {
   "cell_type": "code",
   "execution_count": 77,
   "id": "cf9845e0-ac67-47ce-8d2a-2baa44880195",
   "metadata": {},
   "outputs": [
    {
     "name": "stdout",
     "output_type": "stream",
     "text": [
      "Enter a number:  30\n"
     ]
    },
    {
     "name": "stdout",
     "output_type": "stream",
     "text": [
      "Hello\n"
     ]
    }
   ],
   "source": [
    "# wo number jo 5 or 6 dono sa divide hota ho wo ayee to display ho hello warna print ho byee\n",
    "number = int(input(\"Enter a number: \")) #yahan convert kiya ha int ko string ma \n",
    "if number % 5 == 0 and number % 6 == 0:\n",
    "    print(\"Hello\")\n",
    "else:\n",
    "    print(\"Bye\")\n"
   ]
  },
  {
   "cell_type": "code",
   "execution_count": 101,
   "id": "3ea26458-0ffe-49dc-b17d-3ed9cae8f557",
   "metadata": {},
   "outputs": [
    {
     "name": "stdout",
     "output_type": "stream",
     "text": [
      "Enter your score:  45\n"
     ]
    },
    {
     "name": "stdout",
     "output_type": "stream",
     "text": [
      "fail\n"
     ]
    }
   ],
   "source": [
    "#school grading\n",
    "# Input the score from the user\n",
    "score = int(input(\"Enter your score: \")) # score aik number ha to humne ise int m convert kiya string ma\n",
    "\n",
    "# Determine the grade based on the score\n",
    "if score >= 90 and score<=100:\n",
    "    print(\"Grade A\")\n",
    "elif score >= 80:\n",
    "    print(\"Grade B\")\n",
    "elif score >= 70:\n",
    "    print(\"Grade C\")\n",
    "elif score >= 60:\n",
    "    print(\"Grade D\")\n",
    "else:\n",
    "    print(\"fail\")"
   ]
  },
  {
   "cell_type": "code",
   "execution_count": 111,
   "id": "743f676e-e7bb-4705-a26d-55126e06c22a",
   "metadata": {},
   "outputs": [
    {
     "name": "stdout",
     "output_type": "stream",
     "text": [
      "Enter your score:  imran\n"
     ]
    },
    {
     "name": "stdout",
     "output_type": "stream",
     "text": [
      "Invalid input! Please enter a valid number.\n"
     ]
    },
    {
     "name": "stdout",
     "output_type": "stream",
     "text": [
      "Enter your score:  56]\n"
     ]
    },
    {
     "name": "stdout",
     "output_type": "stream",
     "text": [
      "Invalid input! Please enter a valid number.\n"
     ]
    },
    {
     "name": "stdout",
     "output_type": "stream",
     "text": [
      "Enter your score:  67\n"
     ]
    },
    {
     "name": "stdout",
     "output_type": "stream",
     "text": [
      "Grade D\n"
     ]
    }
   ],
   "source": [
    "while True:\n",
    "    try:\n",
    "        # Input the score from the user\n",
    "        score = int(input(\"Enter your score: \"))  # Try to convert input to integer\n",
    "        \n",
    "        # Check if the score is within a valid range\n",
    "        if score < 0 or score > 100:\n",
    "            print(\"Please enter a score between 0 and 100.\")\n",
    "        else:\n",
    "            break  # Exit the loop if the input is valid\n",
    "    except ValueError:\n",
    "        # Handle the error if input is not a number\n",
    "        print(\"Invalid input! Please enter a valid number.\")\n",
    "\n",
    "# Determine the grade based on the score\n",
    "if score >= 90:\n",
    "    print(\"Grade A\")\n",
    "elif score >= 80:\n",
    "    print(\"Grade B\")\n",
    "elif score >= 70:\n",
    "    print(\"Grade C\")\n",
    "elif score >= 60:\n",
    "    print(\"Grade D\")\n",
    "else:\n",
    "    print(\"Fail\")\n"
   ]
  },
  {
   "cell_type": "code",
   "execution_count": 107,
   "id": "7ac843b5-264a-42fd-90d8-1e0af5ceffd6",
   "metadata": {},
   "outputs": [
    {
     "name": "stdout",
     "output_type": "stream",
     "text": [
      "Enter your score:  99\n"
     ]
    },
    {
     "name": "stdout",
     "output_type": "stream",
     "text": [
      "Grade A\n"
     ]
    }
   ],
   "source": [
    "# Input the score from the user\n",
    "score = int(input(\"Enter your score: \"))  # Convert the input to an integer\n",
    "\n",
    "# Check if the score is valid\n",
    "if score < 0 or score > 100:\n",
    "    print(\"Invalid input! Please enter a score between 0 and 100.\")\n",
    "# Determine the grade based on the score\n",
    "elif score >= 90:\n",
    "    print(\"Grade A\")\n",
    "elif score >= 80:\n",
    "    print(\"Grade B\")\n",
    "elif score >= 70:\n",
    "    print(\"Grade C\")\n",
    "elif score >= 60:\n",
    "    print(\"Grade D\")\n",
    "else:\n",
    "    print(\"Fail\")\n"
   ]
  },
  {
   "cell_type": "code",
   "execution_count": null,
   "id": "75e74058-3ba4-433a-8915-3530efc0807d",
   "metadata": {},
   "outputs": [],
   "source": [
    "# Input a number from the user\n",
    "number = int(input(\"Enter a number: \"))\n",
    "\n",
    "# Check if the number is even or odd\n",
    "if number % 2 == 0:\n",
    "    print(\"The number is even.\")\n",
    "else:\n",
    "    print(\"The number is odd.\")\n"
   ]
  },
  {
   "cell_type": "code",
   "execution_count": 146,
   "id": "67ed9f5d-8a6e-4315-99d0-70adfa762652",
   "metadata": {},
   "outputs": [
    {
     "name": "stdout",
     "output_type": "stream",
     "text": [
      "Enter your age 12\n"
     ]
    },
    {
     "name": "stdout",
     "output_type": "stream",
     "text": [
      "Should be pakistani to cast a vote\n"
     ]
    }
   ],
   "source": [
    "nationality=input(\"Enter your age\")\n",
    "if nationality.lower()==\"pakistani\":   #lower() kisi b input ko lowercase m le kar ata ha\n",
    "   age=int(input(\"Enter your age\"))\n",
    "   if age>=18:\n",
    "     print(\"you are eligible\")\n",
    "   else:\n",
    "     print(\"you are not eligible\")\n",
    "else:\n",
    " print(\"Should be pakistani to cast a vote\")"
   ]
  },
  {
   "cell_type": "code",
   "execution_count": 139,
   "id": "a65d06ea-509d-491d-8c59-bd3815d03971",
   "metadata": {},
   "outputs": [
    {
     "name": "stdout",
     "output_type": "stream",
     "text": [
      "Enter your nationality:  pakistani\n",
      "Enter your age:  18\n"
     ]
    },
    {
     "name": "stdout",
     "output_type": "stream",
     "text": [
      "You are eligible to vote.\n"
     ]
    }
   ],
   "source": [
    "nationality = input(\"Enter your nationality: \")  # Asking for nationality\n",
    "if nationality.lower() == \"pakistani\":   # Convert input to lowercase to handle case sensitivity\n",
    "    age = int(input(\"Enter your age: \"))  # Asking for age\n",
    "    if age >= 18:\n",
    "        print(\"You are eligible to vote.\")\n",
    "    else:\n",
    "        print(\"You are not eligible to vote.\")\n",
    "else:\n",
    "    print(\"Should be Pakistani to cast a vote.\")\n"
   ]
  },
  {
   "cell_type": "code",
   "execution_count": 171,
   "id": "f9789ace-808b-47cc-accc-a9a060648d09",
   "metadata": {},
   "outputs": [
    {
     "name": "stdout",
     "output_type": "stream",
     "text": [
      "Enter your age:  17\n",
      "Enter your gender (M or F):  M\n"
     ]
    },
    {
     "name": "stdout",
     "output_type": "stream",
     "text": [
      "you should be underage or should get retired\n"
     ]
    }
   ],
   "source": [
    "age = int(input(\"Enter your age: \"))\n",
    "gender = (input(\"Enter your gender (M or F): \"))\n",
    "\n",
    "if gender ==\"F\":\n",
    "   print(\"you can work only in urban areas\")\n",
    "else:\n",
    "    if age>=40 and age<=60:\n",
    "         print(\"Can work in urban area only\")\n",
    "    elif age>= 20 and age< 40:\n",
    "          print (\"You can work everyone\")\n",
    "    else:\n",
    "          print (\"you should be underage or should get retired\")"
   ]
  },
  {
   "cell_type": "code",
   "execution_count": 163,
   "id": "f92ab269-7fbb-4a26-b290-5cce510cdac8",
   "metadata": {},
   "outputs": [
    {
     "name": "stdout",
     "output_type": "stream",
     "text": [
      "Enter your age:  20\n",
      "Enter your gender (M or F):  F\n"
     ]
    },
    {
     "name": "stdout",
     "output_type": "stream",
     "text": [
      "You can work only in urban areas\n"
     ]
    }
   ],
   "source": [
    "age = int(input(\"Enter your age: \"))\n",
    "gender = input(\"Enter your gender (M or F): \")\n",
    "\n",
    "if gender == \"F\":\n",
    "    print(\"You can work only in urban areas\")\n",
    "else:\n",
    "    if age >= 40 and age <= 60:\n",
    "        print(\"Can work in urban area only\")\n",
    "    elif age >= 20 and age <= 40:\n",
    "        print(\"You can work everywhere\")\n",
    "    else:\n",
    "        print(\"Age is below 20, work restrictions may apply\")\n"
   ]
  },
  {
   "cell_type": "code",
   "execution_count": 185,
   "id": "85689721-b318-4ede-a99d-83d31ee5f71d",
   "metadata": {},
   "outputs": [
    {
     "name": "stdout",
     "output_type": "stream",
     "text": [
      "['sindh', 'lahore', 'islamabad', 'balochistan', 'karachi']\n"
     ]
    }
   ],
   "source": [
    "#List hum same data aik hi varaible m rakh skta hun list m hum character or int dono type ka data use krskta ha aik st \n",
    "#value can be sepatared by ,\n",
    "cities=[\"sindh\",\"lahore\",\"islamabad\",\"balochistan\",\"karachi\"]\n",
    "print(cities)"
   ]
  },
  {
   "cell_type": "code",
   "execution_count": 191,
   "id": "7ca5da1f-df2c-4569-9271-56e33b2f1074",
   "metadata": {},
   "outputs": [
    {
     "name": "stdout",
     "output_type": "stream",
     "text": [
      "lahore\n",
      "['islamabad', 'balochistan', 'karachi']\n"
     ]
    }
   ],
   "source": [
    "#List hum same data aik hi varaible m rakh skta hun\n",
    "#value can be sepatared by ,\n",
    "cities=[\"sindh\",\"lahore\",\"islamabad\",\"balochistan\",\"karachi\"]\n",
    "print(cities[1]) #specific value search krna ka liya hum is tarah uska adress den ga position\n",
    "print(cities[2:]) #mtlb w sa forward sare ahgay ki values print krega or hum start ki value include kr skta ha  lekin end ki nh kr skta \n"
   ]
  },
  {
   "cell_type": "code",
   "execution_count": 199,
   "id": "9c12515f-b532-4e48-a5f5-e159a77813cf",
   "metadata": {},
   "outputs": [
    {
     "name": "stdout",
     "output_type": "stream",
     "text": [
      "['sindh', 'pakistan', 'islamabad', 'balochistan', 'karachi']\n"
     ]
    }
   ],
   "source": [
    "#adding values in list or change \n",
    "#lahore ki jaga pakistan lagana ha \n",
    "cities=[\"sindh\",\"lahore\",\"islamabad\",\"balochistan\",\"karachi\"]\n",
    "cities[1]=\"pakistan\" #yahan humne 1 position per jo value thi use change kr pakistan dal di \n",
    "print(cities)"
   ]
  },
  {
   "cell_type": "code",
   "execution_count": 209,
   "id": "6686aafb-4787-4d81-a99a-4f79b968c9a7",
   "metadata": {},
   "outputs": [
    {
     "name": "stdout",
     "output_type": "stream",
     "text": [
      "['sindh', 'lahore', 'islamabad', 'balochistan', 'karachi', 'imran']\n"
     ]
    }
   ],
   "source": [
    "cities=[\"sindh\",\"lahore\",\"islamabad\",\"balochistan\",\"karachi\"]\n",
    "cities.append(\"imran\")  # append last m value add kr deta ha humesha ye last m value add krta ha \n",
    "print(cities)"
   ]
  },
  {
   "cell_type": "code",
   "execution_count": 213,
   "id": "d4cb1ca8-ab20-458e-8c31-5379d258e09b",
   "metadata": {},
   "outputs": [
    {
     "name": "stdout",
     "output_type": "stream",
     "text": [
      "['sindh', 'lahore', 'islamabad', 'imran', 'balochistan', 'karachi', 2]\n"
     ]
    }
   ],
   "source": [
    "cities=[\"sindh\",\"lahore\",\"islamabad\",\"balochistan\",\"karachi\",2]\n",
    "cities.insert(3,\"imran\")  # insert hum jo location btay ga vwahan value add kre ga aik new existing wali ko update nh kre ga  \n",
    "print(cities)"
   ]
  },
  {
   "cell_type": "code",
   "execution_count": 221,
   "id": "9ed853d4-6e14-41f2-9771-163785860121",
   "metadata": {},
   "outputs": [
    {
     "name": "stdout",
     "output_type": "stream",
     "text": [
      "['sindh', 'lahore', 'islamabad', 'balochistan', 2]\n"
     ]
    }
   ],
   "source": [
    "#remove\n",
    "cities=[\"sindh\",\"lahore\",\"islamabad\",\"balochistan\",\"karachi\",2]\n",
    "cities.remove(\"karachi\")\n",
    "print(cities)\n"
   ]
  },
  {
   "cell_type": "code",
   "execution_count": 229,
   "id": "c5211afc-13e0-4243-8ebd-ccf53fdd1979",
   "metadata": {},
   "outputs": [
    {
     "name": "stdout",
     "output_type": "stream",
     "text": [
      "['sindh', 'karachi', 2]\n"
     ]
    }
   ],
   "source": [
    "#del\n",
    "cities=[\"sindh\",\"lahore\",\"islamabad\",\"balochistan\",\"karachi\",2]\n",
    "del cities[1] #aik st 2 location ko del nh kr skta humain dubara sa index new line m dena hoga like this\n",
    "del cities[4]\n",
    "print(cities)\n"
   ]
  },
  {
   "cell_type": "code",
   "execution_count": 233,
   "id": "d8d3ebbe-37f8-4765-9425-05ba14470fa6",
   "metadata": {},
   "outputs": [
    {
     "name": "stdout",
     "output_type": "stream",
     "text": [
      "['sindh', 'islamabad', 'balochistan', 'karachi', 2]\n"
     ]
    }
   ],
   "source": [
    "#pop\n",
    "#del\n",
    "cities=[\"sindh\",\"lahore\",\"islamabad\",\"balochistan\",\"karachi\",2]\n",
    "del cities[1] #aik st 2 location ko del nh kr skta humain dubara sa index new line m dena hoga like this\n",
    "\n",
    "print(cities)\n"
   ]
  },
  {
   "cell_type": "code",
   "execution_count": 246,
   "id": "460d5648-cac2-489f-b9ed-c6ae2e9c4b51",
   "metadata": {},
   "outputs": [
    {
     "name": "stdout",
     "output_type": "stream",
     "text": [
      "2\n"
     ]
    }
   ],
   "source": [
    "#count\n",
    "cities=[\"sindh\",\"lahore\",\"islamabad\",\"balochistan\",\"karachi\",2,\"karachi\"]\n",
    "imran=cities.count(\"karachi\") #aik st 2 location ko del nh kr skta humain dubara sa index new line m dena hoga like this\n",
    "\n",
    "print(imran)\n",
    "\n"
   ]
  },
  {
   "cell_type": "code",
   "execution_count": null,
   "id": "722fd717-1828-4fda-94cd-126968e2f1de",
   "metadata": {},
   "outputs": [],
   "source": []
  },
  {
   "cell_type": "code",
   "execution_count": null,
   "id": "365b0f5c-bc5d-4c99-8307-d9817474aa58",
   "metadata": {},
   "outputs": [],
   "source": []
  }
 ],
 "metadata": {
  "kernelspec": {
   "display_name": "Python 3 (ipykernel)",
   "language": "python",
   "name": "python3"
  },
  "language_info": {
   "codemirror_mode": {
    "name": "ipython",
    "version": 3
   },
   "file_extension": ".py",
   "mimetype": "text/x-python",
   "name": "python",
   "nbconvert_exporter": "python",
   "pygments_lexer": "ipython3",
   "version": "3.12.4"
  }
 },
 "nbformat": 4,
 "nbformat_minor": 5
}
