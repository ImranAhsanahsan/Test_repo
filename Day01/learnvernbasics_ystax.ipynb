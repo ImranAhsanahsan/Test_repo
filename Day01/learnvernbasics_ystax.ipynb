{
 "cells": [
  {
   "cell_type": "code",
   "execution_count": 35,
   "id": "467b7cf8-1fd0-4b10-bd1b-95a1862eaa92",
   "metadata": {},
   "outputs": [
    {
     "name": "stdout",
     "output_type": "stream",
     "text": [
      "Imran 4\n",
      "4\n",
      "<class 'int'>\n",
      "Python\n",
      "<class 'str'>\n"
     ]
    }
   ],
   "source": [
    "a =4\n",
    "print(\"Imran\",a)\n",
    "print(a)\n",
    "# is sa hum ne iski data type ko dekhan ka liya kiya ha ye btai ga ka humara variable kis data type m ha\n",
    "print (type(a))\n",
    "###########\n",
    "b=\"Python\"\n",
    "print(b)\n",
    "print(type(b))"
   ]
  },
  {
   "cell_type": "code",
   "execution_count": 41,
   "id": "4b720b72-8d27-4164-bd7c-e101b3f2f696",
   "metadata": {},
   "outputs": [
    {
     "name": "stdin",
     "output_type": "stream",
     "text": [
      "Enter the value of A: imran\n"
     ]
    },
    {
     "name": "stdout",
     "output_type": "stream",
     "text": [
      "A= imran\n"
     ]
    }
   ],
   "source": [
    "# user input ka liya hum input fucntion use krta han \n",
    "a=input(\"Enter the value of A:\")\n",
    "print(\"A=\",a)"
   ]
  },
  {
   "cell_type": "code",
   "execution_count": 47,
   "id": "c383ead5-e461-4343-899e-6d7a2f6df171",
   "metadata": {},
   "outputs": [
    {
     "name": "stdin",
     "output_type": "stream",
     "text": [
      "Enter the value of A: 1\n",
      "Enter value of B: 2\n"
     ]
    },
    {
     "name": "stdout",
     "output_type": "stream",
     "text": [
      "The sum of two values is: 12\n"
     ]
    }
   ],
   "source": [
    "# user input python m humesha string m hota ha to agr hum integer dera han to humain int ka variable define krna hoga\n",
    "a=input(\"Enter the value of A:\")\n",
    "b=input(\"Enter value of B:\")\n",
    "c=a+b\n",
    "print(\"The sum of two values is:\",c)"
   ]
  },
  {
   "cell_type": "code",
   "execution_count": 51,
   "id": "9732e045-524b-4eca-9b4c-cfc885685a90",
   "metadata": {},
   "outputs": [
    {
     "name": "stdin",
     "output_type": "stream",
     "text": [
      "Enter the value of A: 1\n",
      "Enter value of B: 2\n"
     ]
    },
    {
     "name": "stdout",
     "output_type": "stream",
     "text": [
      "The sum of two values is: 3\n"
     ]
    }
   ],
   "source": [
    "# user input python m humesha string m hota ha to agr hum integer dera han to humain int ka variable define krna hoga\n",
    "a=int(input(\"Enter the value of A:\"))\n",
    "b=int(input(\"Enter value of B:\"))\n",
    "c=a+b\n",
    "print(\"The sum of two values is:\",c)"
   ]
  },
  {
   "cell_type": "code",
   "execution_count": 10,
   "id": "86bb53d8-fdc3-41f1-acb4-510199e9fe96",
   "metadata": {},
   "outputs": [
    {
     "name": "stdout",
     "output_type": "stream",
     "text": [
      "{1, 2, 3, 5, 6, 7}\n",
      "[1, 2, 3, 5, 6, 7]\n"
     ]
    }
   ],
   "source": [
    "# Initial array\n",
    "arr = [1, 2, 5, 3, 3, 7, 6]\n",
    "\n",
    "# Remove duplicates using set and sort the array\n",
    "result1 = sorted(set(arr))\n",
    "result = set(arr)\n",
    "\n",
    "# Print the result\n",
    "print(result)\n",
    "print(result1)"
   ]
  },
  {
   "cell_type": "code",
   "execution_count": 14,
   "id": "7e92b60c-13b5-40ce-a3a0-a8cce5b4737e",
   "metadata": {},
   "outputs": [
    {
     "name": "stdout",
     "output_type": "stream",
     "text": [
      "<class 'set'>\n",
      "<class 'list'>\n"
     ]
    }
   ],
   "source": [
    "print(type(result))\n",
    "print(type(result1))"
   ]
  },
  {
   "cell_type": "code",
   "execution_count": null,
   "id": "2915c897-a643-4c74-9ffc-d3f9332dd7a8",
   "metadata": {},
   "outputs": [],
   "source": []
  }
 ],
 "metadata": {
  "kernelspec": {
   "display_name": "Python 3 (ipykernel)",
   "language": "python",
   "name": "python3"
  },
  "language_info": {
   "codemirror_mode": {
    "name": "ipython",
    "version": 3
   },
   "file_extension": ".py",
   "mimetype": "text/x-python",
   "name": "python",
   "nbconvert_exporter": "python",
   "pygments_lexer": "ipython3",
   "version": "3.12.4"
  }
 },
 "nbformat": 4,
 "nbformat_minor": 5
}
