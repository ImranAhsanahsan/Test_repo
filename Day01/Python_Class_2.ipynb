{
 "cells": [
  {
   "cell_type": "code",
   "execution_count": 1,
   "id": "568aa9a9-27cc-471c-9d7f-8fa5beb46078",
   "metadata": {},
   "outputs": [
    {
     "name": "stdout",
     "output_type": "stream",
     "text": [
      "Anaconda\n"
     ]
    }
   ],
   "source": [
    "print (\"Anaconda\")"
   ]
  },
  {
   "cell_type": "code",
   "execution_count": 5,
   "id": "f85bf38c-abb1-437f-b328-24ada7f5e119",
   "metadata": {},
   "outputs": [
    {
     "data": {
      "text/plain": [
       "5"
      ]
     },
     "execution_count": 5,
     "metadata": {},
     "output_type": "execute_result"
    }
   ],
   "source": [
    "# ye dono + addition krta han ye 2 tareeqa han addition krnake/\n",
    "age=1\n",
    "age= age+2\n",
    "age+=2\n",
    "age\n"
   ]
  },
  {
   "cell_type": "code",
   "execution_count": 7,
   "id": "6db2d19e-d634-4302-a302-e722643b3fc6",
   "metadata": {},
   "outputs": [
    {
     "data": {
      "text/plain": [
       "-3"
      ]
     },
     "execution_count": 7,
     "metadata": {},
     "output_type": "execute_result"
    }
   ],
   "source": [
    "age=1\n",
    "age= age-2\n",
    "age-=2\n",
    "age\n"
   ]
  },
  {
   "cell_type": "code",
   "execution_count": 9,
   "id": "248fb1fb-309c-4ff0-9df1-8c153404147a",
   "metadata": {},
   "outputs": [
    {
     "data": {
      "text/plain": [
       "'Imranahsan'"
      ]
     },
     "execution_count": 9,
     "metadata": {},
     "output_type": "execute_result"
    }
   ],
   "source": [
    "\"Imran\" + \"ahsan\""
   ]
  },
  {
   "cell_type": "code",
   "execution_count": 11,
   "id": "b15bbde8-1e68-4726-aaed-25896f5efdcb",
   "metadata": {},
   "outputs": [
    {
     "data": {
      "text/plain": [
       "('Imran', 'ahsan')"
      ]
     },
     "execution_count": 11,
     "metadata": {},
     "output_type": "execute_result"
    }
   ],
   "source": [
    "\"Imran\",\"ahsan\""
   ]
  },
  {
   "cell_type": "code",
   "execution_count": 13,
   "id": "d052b66d-bb2d-4273-973c-a361210180c4",
   "metadata": {},
   "outputs": [
    {
     "name": "stdout",
     "output_type": "stream",
     "text": [
      "hello there\n"
     ]
    }
   ],
   "source": [
    "print(\"hello\",\"there\")"
   ]
  },
  {
   "cell_type": "code",
   "execution_count": null,
   "id": "6fe1ebb6-4100-4d01-bca1-b2e86c10ccef",
   "metadata": {},
   "outputs": [
    {
     "ename": "SyntaxError",
     "evalue": "invalid syntax (1151150872.py, line 1)",
     "output_type": "error",
     "traceback": [
      "\u001b[1;36m  Cell \u001b[1;32mIn[15], line 1\u001b[1;36m\u001b[0m\n\u001b[1;33m    \"my name is\" +name+,\"my age is\" +age+\u001b[0m\n\u001b[1;37m                       ^\u001b[0m\n\u001b[1;31mSyntaxError\u001b[0m\u001b[1;31m:\u001b[0m invalid syntax\n"
     ]
    }
   ],
   "source": [
    "\"my name is\" +name+,\"my age is\" +age+"
   ]
  },
  {
   "cell_type": "code",
   "execution_count": 25,
   "id": "84c54692-edea-4395-b7db-4409f31a8fc1",
   "metadata": {},
   "outputs": [],
   "source": [
    "\n",
    "var = \"my age is \",23"
   ]
  },
  {
   "cell_type": "code",
   "execution_count": 59,
   "id": "562d05dd-c74e-492d-862a-a8d53f4407b1",
   "metadata": {},
   "outputs": [
    {
     "name": "stdout",
     "output_type": "stream",
     "text": [
      "my name is imran\n",
      " my age is 2\n"
     ]
    }
   ],
   "source": [
    "#isme aik string ka primt ha dusra int ka to string or int aik st print nh hota to humne isme int ko string \n",
    "#bana diya ha \n",
    "use #skip kr deta ha hum use last m likha ga humesha ye akhri wali line ko print krta ha agr usme print nh hoto wo \n",
    "name=\"imran\"\n",
    "age=2\n",
    "\"my name is \" +name+\"\\n my age is\" +str(age)\n",
    "print(\"my name is \" +name+\"\\n my age is \" +str(age))\n",
    "\n",
    "\n"
   ]
  },
  {
   "cell_type": "code",
   "execution_count": 61,
   "id": "6241fa16-9263-4b80-aaca-3bf2fd96fbc2",
   "metadata": {},
   "outputs": [
    {
     "name": "stdout",
     "output_type": "stream",
     "text": [
      "my name is imran\n",
      " my age is 2\n"
     ]
    },
    {
     "data": {
      "text/plain": [
       "'my name is imran\\n my age is2'"
      ]
     },
     "execution_count": 61,
     "metadata": {},
     "output_type": "execute_result"
    }
   ],
   "source": [
    "#isme aik string ka primt ha dusra int ka to string or int aik st print nh hota to humne isme int ko string \n",
    "#bana diya ha \n",
    "name=\"imran\"\n",
    "age=2\n",
    "print(\"my name is \" +name+\"\\n my age is \" +str(age))\n",
    "\"my name is \" +name+\"\\n my age is\" +str(age)\n",
    "\n",
    "\n"
   ]
  },
  {
   "cell_type": "code",
   "execution_count": 63,
   "id": "7dee4c2d-ab02-489b-8db0-6b7748e1b616",
   "metadata": {},
   "outputs": [
    {
     "ename": "SyntaxError",
     "evalue": "invalid syntax (2712809068.py, line 1)",
     "output_type": "error",
     "traceback": [
      "\u001b[1;36m  Cell \u001b[1;32mIn[63], line 1\u001b[1;36m\u001b[0m\n\u001b[1;33m    if\u001b[0m\n\u001b[1;37m       ^\u001b[0m\n\u001b[1;31mSyntaxError\u001b[0m\u001b[1;31m:\u001b[0m invalid syntax\n"
     ]
    }
   ],
   "source": [
    "if \n",
    "    print(\"\")"
   ]
  },
  {
   "cell_type": "code",
   "execution_count": 65,
   "id": "a79cadda-922c-4a09-88dd-543aa9012f1b",
   "metadata": {},
   "outputs": [
    {
     "data": {
      "text/plain": [
       "'imran'"
      ]
     },
     "execution_count": 65,
     "metadata": {},
     "output_type": "execute_result"
    }
   ],
   "source": [
    "\"imran\""
   ]
  },
  {
   "cell_type": "code",
   "execution_count": null,
   "id": "8a4fc6c1-ad80-4d3e-87cc-6c7a19c6fda0",
   "metadata": {},
   "outputs": [],
   "source": []
  }
 ],
 "metadata": {
  "kernelspec": {
   "display_name": "Python 3 (ipykernel)",
   "language": "python",
   "name": "python3"
  },
  "language_info": {
   "codemirror_mode": {
    "name": "ipython",
    "version": 3
   },
   "file_extension": ".py",
   "mimetype": "text/x-python",
   "name": "python",
   "nbconvert_exporter": "python",
   "pygments_lexer": "ipython3",
   "version": "3.12.4"
  }
 },
 "nbformat": 4,
 "nbformat_minor": 5
}
