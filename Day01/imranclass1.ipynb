{
 "cells": [
  {
   "cell_type": "code",
   "execution_count": 1,
   "id": "a02c2a49-3816-41ea-84e7-6170e3607a06",
   "metadata": {},
   "outputs": [
    {
     "name": "stdout",
     "output_type": "stream",
     "text": [
      "Imran dara engineer\n"
     ]
    }
   ],
   "source": [
    "print (\"Imran dara engineer\")"
   ]
  },
  {
   "cell_type": "code",
   "execution_count": 4,
   "id": "473439e1-5cbd-4b60-86e7-eb4be266d68a",
   "metadata": {},
   "outputs": [
    {
     "name": "stdout",
     "output_type": "stream",
     "text": [
      "asmat khattakk \n"
     ]
    }
   ],
   "source": [
    "print (\"asmat khattakk \")"
   ]
  },
  {
   "cell_type": "code",
   "execution_count": null,
   "id": "9024ec61-0b5f-4cea-8369-3a4ef299428b",
   "metadata": {},
   "outputs": [],
   "source": []
  }
 ],
 "metadata": {
  "kernelspec": {
   "display_name": "Python 3 (ipykernel)",
   "language": "python",
   "name": "python3"
  },
  "language_info": {
   "codemirror_mode": {
    "name": "ipython",
    "version": 3
   },
   "file_extension": ".py",
   "mimetype": "text/x-python",
   "name": "python",
   "nbconvert_exporter": "python",
   "pygments_lexer": "ipython3",
   "version": "3.12.4"
  }
 },
 "nbformat": 4,
 "nbformat_minor": 5
}
