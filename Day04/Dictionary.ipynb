{
 "cells": [
  {
   "cell_type": "code",
   "execution_count": 1,
   "id": "86161320-5050-47ca-897b-0e2dfc2d90d9",
   "metadata": {},
   "outputs": [
    {
     "name": "stdout",
     "output_type": "stream",
     "text": [
      "hello world\n"
     ]
    }
   ],
   "source": [
    "print(\"hello world\")"
   ]
  },
  {
   "cell_type": "code",
   "execution_count": 3,
   "id": "50d0dc39-3594-45f9-9329-125e4677b14d",
   "metadata": {},
   "outputs": [
    {
     "name": "stdout",
     "output_type": "stream",
     "text": [
      "('imran', 'ahsan', 'asad')\n"
     ]
    }
   ],
   "source": [
    "tuple=(\"imran\", \"ahsan\",\"asad\")\n",
    "print (tuple)"
   ]
  },
  {
   "cell_type": "code",
   "execution_count": 5,
   "id": "014ac6ff-f2c3-4b49-8a46-d854fd9df83e",
   "metadata": {},
   "outputs": [
    {
     "name": "stdout",
     "output_type": "stream",
     "text": [
      "{'fname': 'qasim', 'lname': 'hassan', 'address': 'flatno', 'order': 123}\n"
     ]
    }
   ],
   "source": [
    "#Dictionaries\n",
    "#list= (list of value jo change jo skti ha )\n",
    "#Tuple( stire collection of value immutable hota ha change nh hio skta ha )\n",
    "#Dictionary (multiple collection of values)\n",
    "              #key:value\n",
    "\n",
    "customers_786={\"fname\":\"qasim\", \"lname\":\"hassan\", \"address\":\"flatno\",\"order\":123}\n",
    "\n",
    "print(customers)"
   ]
  },
  {
   "cell_type": "code",
   "execution_count": 40,
   "id": "e21b4e4c-4a10-4fea-a473-cc56feaa2bc4",
   "metadata": {},
   "outputs": [
    {
     "ename": "NameError",
     "evalue": "name 'customers_786' is not defined",
     "output_type": "error",
     "traceback": [
      "\u001b[1;31m---------------------------------------------------------------------------\u001b[0m",
      "\u001b[1;31mNameError\u001b[0m                                 Traceback (most recent call last)",
      "Cell \u001b[1;32mIn[40], line 2\u001b[0m\n\u001b[0;32m      1\u001b[0m \u001b[38;5;66;03m#curent dic ma new value ko add krna ka tareeqa\u001b[39;00m\n\u001b[1;32m----> 2\u001b[0m \u001b[43mcustomers_786\u001b[49m[\u001b[38;5;124m\"\u001b[39m\u001b[38;5;124mladlaa\u001b[39m\u001b[38;5;124m\"\u001b[39m]\u001b[38;5;241m=\u001b[39m\u001b[38;5;124m\"\u001b[39m\u001b[38;5;124mimran\u001b[39m\u001b[38;5;124m\"\u001b[39m\n\u001b[0;32m      3\u001b[0m \u001b[38;5;28mprint\u001b[39m(customers_786)\n",
      "\u001b[1;31mNameError\u001b[0m: name 'customers_786' is not defined"
     ]
    }
   ],
   "source": [
    "#curent dic ma new value ko add krna ka tareeqa\n",
    "customers_786[\"ladlaa\"]=\"imran\"\n",
    "print(customers_786)"
   ]
  },
  {
   "cell_type": "code",
   "execution_count": 11,
   "id": "4fe5c082-6e03-481e-a96c-ae542f7742b0",
   "metadata": {},
   "outputs": [
    {
     "name": "stdout",
     "output_type": "stream",
     "text": [
      "{'name': 'qasim', 'fname': 'hassan', 'order': 'flatno', 'id': 123}\n"
     ]
    }
   ],
   "source": [
    "customers_000={\"name\":\"qasim\", \"fname\":\"hassan\", \"order\":\"flatno\",\"id\":123}\n",
    "print(customers_000)"
   ]
  },
  {
   "cell_type": "code",
   "execution_count": 13,
   "id": "b4b16319-c3e9-43cb-a667-ae60efd3d0aa",
   "metadata": {},
   "outputs": [
    {
     "name": "stdout",
     "output_type": "stream",
     "text": [
      "{'customer_786': {'fname': 'qasim', 'lname': 'hassan', 'address': 'flatno', 'order': 123}, 'customer_000': {'name': 'qasim', 'fname': 'hassan', 'order': 'flatno', 'id': 123}}\n"
     ]
    }
   ],
   "source": [
    "# multiple dic bnay ha aik ka and r aik\n",
    "customer={\"customer_786\":{\"fname\":\"qasim\", \"lname\":\"hassan\", \"address\":\"flatno\",\"order\":123}, \"customer_000\":{\"name\":\"qasim\", \"fname\":\"hassan\", \"order\":\"flatno\",\"id\":123}}\n",
    "print(customer)"
   ]
  },
  {
   "cell_type": "code",
   "execution_count": 38,
   "id": "9029ac2a-87ff-46e1-9ce8-8db138699e47",
   "metadata": {},
   "outputs": [
    {
     "name": "stdout",
     "output_type": "stream",
     "text": [
      "{'customer_786': {'fname': 'qasim', 'lname': 'hassan', 'address': 'flatno', 'order': 123}, 'customer_000': {'name': 'qasim', 'fname': 'hassan', 'order': 'flatno', 'id': 12}}\n"
     ]
    }
   ],
   "source": [
    "customer = {\n",
    "    \"customer_786\": {\"fname\": \"qasim\", \"lname\": \"hassan\", \"address\": \"flatno\", \"order\": 123},\n",
    "    \"customer_000\": {\"name\": \"qasim\", \"fname\": \"hassan\", \"order\": \"flatno\", \"id\": 123}\n",
    "}\n",
    "\n",
    "# Sahi key ka naam use karein\n",
    "customer[\"customer_000\"][\"id\"] = 12  # Key \"customer_000\" mein \"id\" update kiya\n",
    "print(customer)\n"
   ]
  },
  {
   "cell_type": "code",
   "execution_count": 42,
   "id": "65883835-a4e8-4a8e-a175-8f422bca0205",
   "metadata": {},
   "outputs": [
    {
     "name": "stdout",
     "output_type": "stream",
     "text": [
      "Key: customer_786\n",
      "Value:\n",
      "  fname: qasim\n",
      "  lname: hassan\n",
      "  address: flatno\n",
      "  order: 123\n",
      "Key: customer_000\n",
      "Value:\n",
      "  name: qasim\n",
      "  fname: hassan\n",
      "  order: flatno\n",
      "  id: 123\n"
     ]
    }
   ],
   "source": [
    "customer = {\n",
    "    \"customer_786\": {\"fname\": \"qasim\", \"lname\": \"hassan\", \"address\": \"flatno\", \"order\": 123},\n",
    "    \"customer_000\": {\"name\": \"qasim\", \"fname\": \"hassan\", \"order\": \"flatno\", \"id\": 123}\n",
    "}\n",
    "\n",
    "# Dictionary ko for loop ka use karke print karna\n",
    "for key, value in customer.items():\n",
    "    print(f\"Key: {key}\")\n",
    "    print(\"Value:\")\n",
    "    for sub_key, sub_value in value.items():\n",
    "        print(f\"  {sub_key}: {sub_value}\")\n"
   ]
  },
  {
   "cell_type": "code",
   "execution_count": 46,
   "id": "499bafae-418b-4a30-8794-1f1d0c32182f",
   "metadata": {},
   "outputs": [
    {
     "name": "stdout",
     "output_type": "stream",
     "text": [
      "fname => qasim\n",
      "lname => hassan\n",
      "address => flatno\n",
      "order => 123\n"
     ]
    }
   ],
   "source": [
    "# dic  ko loop ka zariya print krwana kisi specif key ko\n",
    "\n",
    "customer = {\n",
    "    \"customer_786\": {\"fname\": \"qasim\", \"lname\": \"hassan\", \"address\": \"flatno\", \"order\": 123},\n",
    "    \"customer_000\": {\"name\": \"qasim\", \"fname\": \"hassan\", \"order\": \"flatno\", \"id\": 123}\n",
    "}\n",
    "\n",
    "# Specific key \"customer_786\" ka data print karna\n",
    "for key, value in customer[\"customer_786\"].items():\n",
    "    print(key, \"=>\", value)\n"
   ]
  },
  {
   "cell_type": "code",
   "execution_count": 54,
   "id": "efdaa77c-5bf2-40cc-b898-94e9ccb01a82",
   "metadata": {},
   "outputs": [
    {
     "name": "stdout",
     "output_type": "stream",
     "text": [
      "fname: qasim, lname: hassan, adress: stree433, orderprice: 120, orderitem: sjoes\n",
      "fname: ayan, lname: hussain, adress: str443, orderprice: 123, orderitem: shirt\n",
      "fname: muhammad, lname: uzair, adress: str232, orderprice: 322, orderitem: cap\n"
     ]
    }
   ],
   "source": [
    "listofdic = {\n",
    "    \"fname\": [\"qasim\", \"ayan\", \"muhammad\"],\n",
    "    \"lname\": [\"hassan\", \"hussain\", \"uzair\"],\n",
    "    \"adress\": [\"stree433\", \"str443\", \"str232\"],\n",
    "    \"orderprice\": [120, 123, 322],\n",
    "    \"orderitem\": [\"sjoes\", \"shirt\", \"cap\"]\n",
    "}\n",
    "\n",
    "# Determine the length of any one list (assuming all lists are of the same length)\n",
    "partlen = len(listofdic[\"fname\"])\n",
    "\n",
    "# Loop through the indices\n",
    "for i in range(partlen):\n",
    "    details = []\n",
    "    for key, value in listofdic.items():\n",
    "        details.append(f\"{key}: {value[i]}\")\n",
    "    print(\", \".join(details))\n"
   ]
  },
  {
   "cell_type": "code",
   "execution_count": 56,
   "id": "f907add5-a881-42b9-b84c-7e71d684621c",
   "metadata": {},
   "outputs": [
    {
     "name": "stdout",
     "output_type": "stream",
     "text": [
      "fname: qasim, lname: hassan, adress: stree433, orderprice: 120, orderitem: sjoes\n",
      "fname: ayan, lname: hussain, adress: str443, orderprice: 123, orderitem: shirt\n",
      "fname: muhammad, lname: uzair, adress: str232, orderprice: 322, orderitem: cap\n"
     ]
    }
   ],
   "source": [
    "listofdic = {\n",
    "    \"fname\": [\"qasim\", \"ayan\", \"muhammad\"],\n",
    "    \"lname\": [\"hassan\", \"hussain\", \"uzair\"],\n",
    "    \"adress\": [\"stree433\", \"str443\", \"str232\"],\n",
    "    \"orderprice\": [120, 123, 322],\n",
    "    \"orderitem\": [\"sjoes\", \"shirt\", \"cap\"]\n",
    "}\n",
    "\n",
    "# Loop through indices and print all details\n",
    "for i in range(len(listofdic[\"fname\"])):\n",
    "    print(\", \".join(f\"{key}: {value[i]}\" for key, value in listofdic.items()))\n"
   ]
  },
  {
   "cell_type": "code",
   "execution_count": null,
   "id": "cedb0707-9c3b-4b8d-a762-57a9e1c1e0ed",
   "metadata": {},
   "outputs": [],
   "source": [
    "listofdic = {\n",
    "    \"fname\": [\"qasim\", \"ayan\", \"muhammad\"],\n",
    "    \"lname\": [\"hassan\", \"hussain\", \"uzair\"],\n",
    "    \"adress\": [\"stree433\", \"str443\", \"str232\"],\n",
    "    \"orderprice\": [120, 123, 322],\n",
    "    \"orderitem\": [\"sjoes\", \"shirt\", \"cap\"]\n",
    "}\n",
    "\n",
    "# Loop through indices and print all details\n",
    "partlen="
   ]
  }
 ],
 "metadata": {
  "kernelspec": {
   "display_name": "Python 3 (ipykernel)",
   "language": "python",
   "name": "python3"
  },
  "language_info": {
   "codemirror_mode": {
    "name": "ipython",
    "version": 3
   },
   "file_extension": ".py",
   "mimetype": "text/x-python",
   "name": "python",
   "nbconvert_exporter": "python",
   "pygments_lexer": "ipython3",
   "version": "3.12.4"
  }
 },
 "nbformat": 4,
 "nbformat_minor": 5
}
