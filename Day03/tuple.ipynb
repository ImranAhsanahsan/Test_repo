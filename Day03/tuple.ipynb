{
 "cells": [
  {
   "cell_type": "code",
   "execution_count": 7,
   "id": "3963f46b-f686-4e26-875e-0075b114f4f3",
   "metadata": {},
   "outputs": [
    {
     "data": {
      "text/plain": [
       "'hello'"
      ]
     },
     "execution_count": 7,
     "metadata": {},
     "output_type": "execute_result"
    }
   ],
   "source": [
    "\"hello\""
   ]
  },
  {
   "cell_type": "code",
   "execution_count": 9,
   "id": "060682b6-cb5d-47d5-906c-21dff318d666",
   "metadata": {},
   "outputs": [
    {
     "name": "stdout",
     "output_type": "stream",
     "text": [
      "(1, 2, 3, 4)\n"
     ]
    }
   ],
   "source": [
    "#Tuple  constant hote han isma change nahi kr skta han \n",
    "# or ye orderded ma element hota han \n",
    "#tuple () ma deta han \n",
    "\n",
    "first_tuple=(1,2,3,4)\n",
    "print(first_tuple)\n",
    "\n"
   ]
  },
  {
   "cell_type": "code",
   "execution_count": 11,
   "id": "98ca18bf-47ff-4d7c-b3a4-95e16b4d286a",
   "metadata": {},
   "outputs": [],
   "source": [
    "first_tuple=(11,2,3,4)\n"
   ]
  },
  {
   "cell_type": "code",
   "execution_count": 15,
   "id": "2c49ff73-04dd-4c2c-8ed8-1aa35ae4b0c0",
   "metadata": {},
   "outputs": [
    {
     "data": {
      "text/plain": [
       "{2, 3, 4, 11}"
      ]
     },
     "execution_count": 15,
     "metadata": {},
     "output_type": "execute_result"
    }
   ],
   "source": [
    "set(first_tuple)"
   ]
  },
  {
   "cell_type": "code",
   "execution_count": 23,
   "id": "eed4ed50-cf5d-4b93-82a6-71c55c9c845d",
   "metadata": {},
   "outputs": [
    {
     "name": "stdout",
     "output_type": "stream",
     "text": [
      "[2]\n"
     ]
    }
   ],
   "source": [
    "new_tuple = (\"imran\", \"AHsan\", \"asim\")  # A tuple\n",
    "new_tuple = [2]  # A list, overwrites the previous tuple\n",
    "print(new_tuple)  # Prints the list [2]\n"
   ]
  },
  {
   "cell_type": "code",
   "execution_count": 27,
   "id": "8291125b-e9ac-470e-b891-276545ece0cd",
   "metadata": {},
   "outputs": [
    {
     "name": "stdout",
     "output_type": "stream",
     "text": [
      "asim\n"
     ]
    }
   ],
   "source": [
    "new_tuple = (\"imran\", \"AHsan\", \"asim\")  # A tuple\n",
    "print(new_tuple[2])  # Prints the list [2]\n"
   ]
  },
  {
   "cell_type": "code",
   "execution_count": 31,
   "id": "d4330183-e584-4a67-bcd1-9266d41f9475",
   "metadata": {},
   "outputs": [
    {
     "data": {
      "text/plain": [
       "[1, 2, 3, 4]"
      ]
     },
     "execution_count": 31,
     "metadata": {},
     "output_type": "execute_result"
    }
   ],
   "source": [
    "\n",
    "list = [1,2,3,4]\n",
    "list"
   ]
  },
  {
   "cell_type": "code",
   "execution_count": 33,
   "id": "70609440-cad8-41a9-9d32-66850e756be3",
   "metadata": {},
   "outputs": [
    {
     "data": {
      "text/plain": [
       "[11, 2, 3, 4]"
      ]
     },
     "execution_count": 33,
     "metadata": {},
     "output_type": "execute_result"
    }
   ],
   "source": [
    "list[0]=11\n",
    "list"
   ]
  },
  {
   "cell_type": "code",
   "execution_count": 45,
   "id": "52d838b2-9ef0-4e0d-a93d-490625f81e89",
   "metadata": {},
   "outputs": [
    {
     "name": "stdout",
     "output_type": "stream",
     "text": [
      "64\n",
      "65\n"
     ]
    }
   ],
   "source": [
    "import sys\n",
    "\n",
    "list=[\"imran\",\"ahsan\",\"asim\"]\n",
    "tuple= (\"imran\",\"ahsan\",\"asim\")\n",
    "\n",
    "print(sys.getsizeof(\"size of list in storage\",list))\n",
    "print(sys.getsizeof(\"size of tuple in storage\",tuple))\n"
   ]
  },
  {
   "cell_type": "code",
   "execution_count": 49,
   "id": "0b0dd683-2155-4e9e-94cb-390895c12078",
   "metadata": {},
   "outputs": [
    {
     "data": {
      "text/plain": [
       "(3, 4, 5)"
      ]
     },
     "execution_count": 49,
     "metadata": {},
     "output_type": "execute_result"
    }
   ],
   "source": [
    "#nested list and tuple\n",
    "#[1,2,[5,6,6],4,8,9]\n",
    "#(1,2,(3,4,5)8,9,0)\n",
    "\n",
    "nested_tuple= (1,2,(3,4,5),8,9,0)\n",
    "nested_tuple[2]"
   ]
  },
  {
   "cell_type": "code",
   "execution_count": 51,
   "id": "cced52e1-d5ea-462b-8ca0-1b49e5ffa2db",
   "metadata": {},
   "outputs": [
    {
     "data": {
      "text/plain": [
       "4"
      ]
     },
     "execution_count": 51,
     "metadata": {},
     "output_type": "execute_result"
    }
   ],
   "source": [
    "#nested list and tuple\n",
    "#[1,2,[5,6,6],4,8,9]\n",
    "#(1,2,(3,4,5)8,9,0)\n",
    "\n",
    "nested_tuple= (1,2,(3,4,5),8,9,0)\n",
    "nested_tuple[2][1] #ye tuple ka andr ki index hori ha 2 ka andr kioi specific value ka kiya "
   ]
  },
  {
   "cell_type": "code",
   "execution_count": 74,
   "id": "137bd6a1-0972-44c7-a1c2-8629994e868b",
   "metadata": {},
   "outputs": [
    {
     "data": {
      "text/plain": [
       "{1, 2, 3, 6, 45}"
      ]
     },
     "execution_count": 74,
     "metadata": {},
     "output_type": "execute_result"
    }
   ],
   "source": [
    "#Sets\n",
    "#unique value\n",
    "# 2 tareeqa han ye to hum {} lagay iska andr jo b likha ga wo as a set consider hoga \n",
    "set= {1,2,3,3,45,6}\n",
    "set\n",
    "\n"
   ]
  },
  {
   "cell_type": "code",
   "execution_count": 76,
   "id": "38cab9ce-c5e6-4228-9995-2c8e819de31b",
   "metadata": {},
   "outputs": [
    {
     "name": "stdout",
     "output_type": "stream",
     "text": [
      "imran\n",
      "ahsan\n",
      "imran\n",
      "ahsan\n"
     ]
    }
   ],
   "source": [
    "# loop\n",
    "\n",
    "list=[\"imran\",\"ahsan\",\"imran\",\"ahsan\"]\n",
    "\n",
    "for value in list:\n",
    "    print(value)"
   ]
  },
  {
   "cell_type": "code",
   "execution_count": 82,
   "id": "25803213-4061-4b4b-bc56-171e49dde941",
   "metadata": {},
   "outputs": [
    {
     "name": "stdout",
     "output_type": "stream",
     "text": [
      "0\n",
      "1\n",
      "2\n",
      "3\n",
      "4\n"
     ]
    }
   ],
   "source": [
    "# range loop\n",
    "\n",
    "for i in range(5): # 0 t0 4 tk chula ga ye \n",
    "    print(i)\n"
   ]
  },
  {
   "cell_type": "code",
   "execution_count": 84,
   "id": "607c99a2-3bbf-4170-9769-ffcd628f7a64",
   "metadata": {},
   "outputs": [
    {
     "name": "stdout",
     "output_type": "stream",
     "text": [
      "0 imran\n",
      "\n",
      "1 ahsan\n",
      "\n",
      "2 imran\n",
      "\n",
      "3 ahsan\n",
      "\n"
     ]
    }
   ],
   "source": [
    "# loop ka andr hum sleep b use kr skta han \n",
    "\n",
    "import time # sleep ka fucntion ko use krna ka liya import kre ga ye library\n",
    "list=[\"imran\",\"ahsan\",\"imran\",\"ahsan\"]\n",
    "\n",
    "for i in range(len(list)):\n",
    "    print (i,list[i])\n",
    "    time.sleep(2)\n",
    "    print ()"
   ]
  },
  {
   "cell_type": "code",
   "execution_count": 90,
   "id": "e2d08452-1943-4426-8e88-077f5b148d1d",
   "metadata": {},
   "outputs": [
    {
     "name": "stdin",
     "output_type": "stream",
     "text": [
      "Enter your name  asad\n"
     ]
    },
    {
     "name": "stdout",
     "output_type": "stream",
     "text": [
      "['asad']\n"
     ]
    },
    {
     "name": "stdin",
     "output_type": "stream",
     "text": [
      "Enter your name  asim\n"
     ]
    },
    {
     "name": "stdout",
     "output_type": "stream",
     "text": [
      "['asad', 'asim']\n",
      "asad\n",
      "asim\n"
     ]
    }
   ],
   "source": [
    "#Take 5 input and store them in list and print it one by one\n",
    "names= []\n",
    "\n",
    "for i in range(2):\n",
    "    name = input (\"Enter your name \")\n",
    "    names.append(name)\n",
    "    print(names)\n",
    "\n",
    "for i in names:\n",
    "    print (i)\n",
    "    "
   ]
  },
  {
   "cell_type": "code",
   "execution_count": 92,
   "id": "7aa47f1e-b9c9-41fd-8f42-5afb63421bac",
   "metadata": {},
   "outputs": [
    {
     "name": "stdout",
     "output_type": "stream",
     "text": [
      "[1, 2, 3, 4, 5, 6]\n",
      "[1, 2, 3, 5, 6, 7, 8, 9]\n",
      "['imran', 'asim', 'asad']\n"
     ]
    }
   ],
   "source": [
    "# Nested loops \n",
    "\n",
    "nested_list = [[1,2,3,4,5,6], [1,2,3,5,6,7,8,9], [\"imran\",\"asim\",\"asad\"]]\n",
    "#is list m humara pas 3 element han \n",
    "for i in nested_list:\n",
    "    print(i)"
   ]
  },
  {
   "cell_type": "code",
   "execution_count": 94,
   "id": "84a1b755-b506-4556-9885-cb3fa2bb63d1",
   "metadata": {},
   "outputs": [
    {
     "name": "stdout",
     "output_type": "stream",
     "text": [
      "[1, 2, 3, 4, 5, 6]\n",
      "[1, 2, 3, 5, 6, 7, 8, 9]\n",
      "['imran', 'asim', 'asad']\n",
      "[1, 2, 3, 4, 5, 6]\n",
      "[1, 2, 3, 5, 6, 7, 8, 9]\n",
      "['imran', 'asim', 'asad']\n",
      "[1, 2, 3, 4, 5, 6]\n",
      "[1, 2, 3, 5, 6, 7, 8, 9]\n",
      "['imran', 'asim', 'asad']\n"
     ]
    }
   ],
   "source": [
    "# Nested loops \n",
    "\n",
    "nested_list = [[1,2,3,4,5,6], [1,2,3,5,6,7,8,9], [\"imran\",\"asim\",\"asad\"]]\n",
    "#is list m humara pas 3 element han \n",
    "for i in nested_list:\n",
    "    #humain ab har element ka andr ka number b print krwana ha \n",
    "    for j in nested_list:\n",
    "        print(j)\n",
    "    "
   ]
  },
  {
   "cell_type": "code",
   "execution_count": 98,
   "id": "1d27144e-5f13-4b1b-ab2a-c033c638a7b9",
   "metadata": {},
   "outputs": [
    {
     "name": "stdout",
     "output_type": "stream",
     "text": [
      "[1, 2, 3, 4, 5, 6]\n",
      "1\n",
      "2\n",
      "3\n",
      "4\n",
      "5\n",
      "6\n",
      "[1, 2, 3, 5, 6, 7, 8, 9]\n",
      "1\n",
      "2\n",
      "3\n",
      "5\n",
      "6\n",
      "7\n",
      "8\n",
      "9\n",
      "['imran', 'asim', 'asad']\n",
      "imran\n",
      "asim\n",
      "asad\n"
     ]
    }
   ],
   "source": [
    "# Nested loops \n",
    "\n",
    "nested_list = [[1,2,3,4,5,6], [1,2,3,5,6,7,8,9], [\"imran\",\"asim\",\"asad\"]]\n",
    "#is list m humara pas 3 element han \n",
    "for i in nested_list:\n",
    "    print(i)\n",
    "    #humain ab har element ka andr ka number b print krwana ha \n",
    "    for j in i:\n",
    "        print(j)\n",
    "    "
   ]
  },
  {
   "cell_type": "code",
   "execution_count": 130,
   "id": "6da65153-b02e-4a3b-8de7-c2f30e6b7102",
   "metadata": {},
   "outputs": [
    {
     "name": "stdout",
     "output_type": "stream",
     "text": [
      "*\n",
      "*\n",
      "*\n",
      "*\n",
      "*\n",
      "\n",
      "*\n",
      "*\n",
      "*\n",
      "*\n",
      "*\n",
      "\n",
      "*\n",
      "*\n",
      "*\n",
      "*\n",
      "*\n",
      "\n",
      "*\n",
      "*\n",
      "*\n",
      "*\n",
      "*\n",
      "\n",
      "*\n",
      "*\n",
      "*\n",
      "*\n",
      "*\n",
      "\n"
     ]
    }
   ],
   "source": [
    "#nested loop kr ka * print krn aha \n",
    "\n",
    "# Outer loop to print rows\n",
    "for i in range(5):\n",
    "    # Inner loop to print stars in each row\n",
    "    for j in range(5):\n",
    "        print(\"*\")  # Print star without moving to a new line\n",
    "    print()  # Move to the next line after each row\n"
   ]
  },
  {
   "cell_type": "code",
   "execution_count": 132,
   "id": "4099ae37-0464-4eaa-895b-03a9bfeca3e2",
   "metadata": {},
   "outputs": [
    {
     "name": "stdout",
     "output_type": "stream",
     "text": [
      "*****\n",
      "*****\n",
      "*****\n",
      "*****\n",
      "*****\n"
     ]
    }
   ],
   "source": [
    "# Loop to print 5 rows of stars\n",
    "for i in range(5):\n",
    "    print(\"*\" * 5)  # Print 5 stars in a row\n"
   ]
  },
  {
   "cell_type": "code",
   "execution_count": 140,
   "id": "d27e2d55-8e4f-4540-b362-ec8c135ecbcc",
   "metadata": {},
   "outputs": [
    {
     "name": "stdout",
     "output_type": "stream",
     "text": [
      "*\n",
      "**\n",
      "***\n",
      "****\n",
      "*****\n"
     ]
    }
   ],
   "source": [
    "# Right-angled triangle pattern\n",
    "for i in range(1, 6): # When i = 1, \"*\" * 1 gives \"*\".\n",
    "    print(\"*\" * i)    # When i = 2, \"*\" * 2 gives \"**\".\n",
    "                      # When i = 3, \"*\" * 3 gives \"***\".\n",
    "\n"
   ]
  },
  {
   "cell_type": "code",
   "execution_count": 169,
   "id": "3304d2bf-f2d9-40d5-beed-e19f89d56c53",
   "metadata": {},
   "outputs": [
    {
     "name": "stdout",
     "output_type": "stream",
     "text": [
      "0\n",
      "1\n",
      "2\n",
      "3\n"
     ]
    }
   ],
   "source": [
    "# break \n",
    "\n",
    "for i in range(5):\n",
    "    print(i)\n",
    "    if i==3:\n",
    "     break"
   ]
  },
  {
   "cell_type": "code",
   "execution_count": 171,
   "id": "70618b97-df03-4df5-9bf3-b6facd902eb6",
   "metadata": {},
   "outputs": [
    {
     "name": "stdout",
     "output_type": "stream",
     "text": [
      "0\n",
      "1\n",
      "2\n",
      "3\n",
      "4\n",
      "5\n",
      "6\n",
      "7\n",
      "8\n",
      "9\n",
      "10\n",
      "11\n"
     ]
    }
   ],
   "source": [
    "#contineous loop\n",
    "\n",
    "for i in range (12):\n",
    "    print(i)\n",
    "    continue   # ye loop ko break nh krta ha iska ahgay ka code run nh hioga lekin loop break nh hoga \n",
    "    print(\"Hello\")"
   ]
  },
  {
   "cell_type": "code",
   "execution_count": 1,
   "id": "1baec57b-4ac9-4ac3-9943-e03801181b2a",
   "metadata": {},
   "outputs": [
    {
     "name": "stdout",
     "output_type": "stream",
     "text": [
      "0\n",
      "Hello\n",
      "1\n",
      "Hello\n",
      "2\n",
      "Hello\n",
      "3\n",
      "4\n",
      "Hello\n",
      "5\n",
      "Hello\n"
     ]
    }
   ],
   "source": [
    "#contineous loop\n",
    "\n",
    "for i in range (6):\n",
    "    print(i)\n",
    "    if i==3:      # baqi sub per hello print hoga lekin jub 3 match hoga to 3 ka bad hello print nh hoga kuyn ka contiue loop ko rok deta ha \n",
    "       continue   # ye loop ko break nh krta ha iska ahgay ka code run nh hioga lekin loop break nh hoga \n",
    "    print(\"Hello\")"
   ]
  },
  {
   "cell_type": "code",
   "execution_count": 10,
   "id": "4667ffdd-e7c1-4cf7-8f37-ef031c92af8e",
   "metadata": {},
   "outputs": [
    {
     "name": "stdout",
     "output_type": "stream",
     "text": [
      "\n",
      "*\n",
      "**\n",
      "***\n",
      "****\n"
     ]
    }
   ],
   "source": [
    "for i in range (5):\n",
    "    print (\"*\" *i )"
   ]
  },
  {
   "cell_type": "code",
   "execution_count": null,
   "id": "f76ece74-3aa6-4955-b760-b3486860635a",
   "metadata": {},
   "outputs": [],
   "source": [
    "# working code to generate XlX file generation ka liya with unique entity \n",
    "import pandas as pd\n",
    "from faker import Faker\n",
    "import os\n",
    "\n",
    "# Initialize Faker to generate fake data\n",
    "fake = Faker()\n",
    "\n",
    "# Create empty lists for the data\n",
    "first_names = []\n",
    "last_names = []\n",
    "emails = set()  # Using a set to ensure unique emails\n",
    "\n",
    "# Track unique combinations of first and last names\n",
    "name_combinations = set()\n",
    "\n",
    "# Generate 100 unique records\n",
    "while len(first_names) < 800000:\n",
    "    first_name = fake.first_name()\n",
    "    last_name = fake.last_name()\n",
    "\n",
    "    # Check if the combination of first name and last name is unique\n",
    "    if (first_name, last_name) not in name_combinations:\n",
    "        # Create a unique email address\n",
    "        email = f\"{first_name.lower()}.{last_name.lower()}@example.com\"\n",
    "        \n",
    "        # Ensure the email is unique\n",
    "        if email not in emails:\n",
    "            # Add unique data to the lists and sets\n",
    "            first_names.append(first_name)\n",
    "            last_names.append(last_name)\n",
    "            emails.add(email)\n",
    "            name_combinations.add((first_name, last_name))\n",
    "\n",
    "# Create DataFrame\n",
    "data = pd.DataFrame({\n",
    "    \"First Name\": first_names,\n",
    "    \"Last Name\": last_names,\n",
    "    \"Email\": list(emails)\n",
    "})\n",
    "\n",
    "# Save to Excel file and print confirmation\n",
    "file_path = \"unique_names_emails.xlsx\"\n",
    "data.to_excel(file_path, index=False)\n",
    "print(f\"File saved as {file_path}\")\n"
   ]
  },
  {
   "cell_type": "code",
   "execution_count": null,
   "id": "c1497779-c580-4a34-a0cf-b13dede78567",
   "metadata": {},
   "outputs": [],
   "source": []
  }
 ],
 "metadata": {
  "kernelspec": {
   "display_name": "Python 3 (ipykernel)",
   "language": "python",
   "name": "python3"
  },
  "language_info": {
   "codemirror_mode": {
    "name": "ipython",
    "version": 3
   },
   "file_extension": ".py",
   "mimetype": "text/x-python",
   "name": "python",
   "nbconvert_exporter": "python",
   "pygments_lexer": "ipython3",
   "version": "3.12.4"
  }
 },
 "nbformat": 4,
 "nbformat_minor": 5
}
